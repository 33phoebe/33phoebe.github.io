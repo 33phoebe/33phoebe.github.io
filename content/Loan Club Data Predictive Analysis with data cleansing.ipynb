{
 "cells": [
  {
   "cell_type": "code",
   "execution_count": 47,
   "metadata": {},
   "outputs": [
    {
     "name": "stderr",
     "output_type": "stream",
     "text": [
      "/Applications/anaconda3/lib/python3.6/site-packages/IPython/core/interactiveshell.py:2698: DtypeWarning: Columns (0,47) have mixed types. Specify dtype option on import or set low_memory=False.\n",
      "  interactivity=interactivity, compiler=compiler, result=result)\n"
     ]
    }
   ],
   "source": [
    "import pandas as pd\n",
    "loan = pd.read_csv(\"Data/lending club loan/LoanStats3a.csv\", skiprows = 1)"
   ]
  },
  {
   "cell_type": "code",
   "execution_count": 48,
   "metadata": {},
   "outputs": [
    {
     "data": {
      "text/plain": [
       "(42538, 145)"
      ]
     },
     "execution_count": 48,
     "metadata": {},
     "output_type": "execute_result"
    }
   ],
   "source": [
    "loan.head()\n",
    "loan.shape"
   ]
  },
  {
   "cell_type": "markdown",
   "metadata": {},
   "source": [
    "this dataset contains complete loan data for all loans issued through 2007-2011, including the current loan status (Current, Late, Fully Paid, etc.) and latest payment information.\n",
    "[data source-lending club](https://www.lendingclub.com/info/download-data.action)\n",
    "[data dictionary](https://resources.lendingclub.com/LCDataDictionary.xlsx)"
   ]
  },
  {
   "cell_type": "code",
   "execution_count": 49,
   "metadata": {
    "collapsed": true
   },
   "outputs": [],
   "source": [
    "half_count = len(loan) / 2\n",
    "loan = loan.dropna(thresh = half_count, axis = 1)\n",
    "loan = loan.drop([\"desc\"], axis = 1)\n",
    "loan.to_csv('loan2007.csv', index = False)"
   ]
  },
  {
   "cell_type": "code",
   "execution_count": 50,
   "metadata": {},
   "outputs": [
    {
     "data": {
      "text/plain": [
       "['acc_now_delinq',\n",
       " 'addr_state',\n",
       " 'annual_inc',\n",
       " 'application_type',\n",
       " 'chargeoff_within_12_mths',\n",
       " 'collection_recovery_fee',\n",
       " 'collections_12_mths_ex_med',\n",
       " 'debt_settlement_flag',\n",
       " 'delinq_2yrs',\n",
       " 'delinq_amnt',\n",
       " 'disbursement_method',\n",
       " 'dti',\n",
       " 'earliest_cr_line',\n",
       " 'emp_length',\n",
       " 'emp_title',\n",
       " 'funded_amnt',\n",
       " 'funded_amnt_inv',\n",
       " 'grade',\n",
       " 'hardship_flag',\n",
       " 'home_ownership',\n",
       " 'initial_list_status',\n",
       " 'inq_last_6mths',\n",
       " 'installment',\n",
       " 'int_rate',\n",
       " 'issue_d',\n",
       " 'last_credit_pull_d',\n",
       " 'last_pymnt_amnt',\n",
       " 'last_pymnt_d',\n",
       " 'loan_amnt',\n",
       " 'loan_status',\n",
       " 'open_acc',\n",
       " 'out_prncp',\n",
       " 'out_prncp_inv',\n",
       " 'policy_code',\n",
       " 'pub_rec',\n",
       " 'pub_rec_bankruptcies',\n",
       " 'purpose',\n",
       " 'pymnt_plan',\n",
       " 'recoveries',\n",
       " 'revol_bal',\n",
       " 'revol_util',\n",
       " 'sub_grade',\n",
       " 'tax_liens',\n",
       " 'term',\n",
       " 'title',\n",
       " 'total_acc',\n",
       " 'total_pymnt',\n",
       " 'total_pymnt_inv',\n",
       " 'total_rec_int',\n",
       " 'total_rec_late_fee',\n",
       " 'total_rec_prncp',\n",
       " 'verification_status',\n",
       " 'zip_code']"
      ]
     },
     "execution_count": 50,
     "metadata": {},
     "output_type": "execute_result"
    }
   ],
   "source": [
    "sorted(loan.columns)"
   ]
  },
  {
   "cell_type": "code",
   "execution_count": 51,
   "metadata": {
    "collapsed": true
   },
   "outputs": [],
   "source": [
    "#Major reasons to remove columns:\n",
    "'''\n",
    "-leak information from the future (after the loan has already been funded)\n",
    "-don't affect a borrower's ability to pay back a loan (e.g. a randomly generated ID value by Lending Club)\n",
    "-formatted poorly and need to be cleaned up\n",
    "-require more data or a lot of processing to turn into a useful feature\n",
    "-contain redundant information\n",
    "'''\n",
    "cols_to_remove = [\"funded_amnt\", \"funded_amnt_inv\", \"grade\", \"sub_grade\", \"emp_title\", \"issue_d\"]\n",
    "loan = loan.drop(cols_to_remove, axis = 1)"
   ]
  },
  {
   "cell_type": "code",
   "execution_count": 52,
   "metadata": {
    "collapsed": true
   },
   "outputs": [],
   "source": [
    "removecols2 = [\"zip_code\", \"out_prncp\", \"out_prncp_inv\", \"total_pymnt\", \"total_pymnt_inv\", \"total_rec_prncp\"]\n",
    "loan = loan.drop(removecols2, axis = 1)"
   ]
  },
  {
   "cell_type": "code",
   "execution_count": 53,
   "metadata": {},
   "outputs": [
    {
     "data": {
      "text/plain": [
       "(42538, 35)"
      ]
     },
     "execution_count": 53,
     "metadata": {},
     "output_type": "execute_result"
    }
   ],
   "source": [
    "removecols3 = [\"total_rec_int\", \"total_rec_late_fee\", \"recoveries\", \"collection_recovery_fee\", \"last_pymnt_d\", \"last_pymnt_amnt\"]\n",
    "loan = loan.drop(removecols3, axis = 1)\n",
    "loan.shape"
   ]
  },
  {
   "cell_type": "code",
   "execution_count": 54,
   "metadata": {
    "collapsed": true
   },
   "outputs": [],
   "source": [
    "loan.drop([\"hardship_flag\", \"disbursement_method\", \"debt_settlement_flag\"], axis = 1, inplace = True)"
   ]
  },
  {
   "cell_type": "code",
   "execution_count": 55,
   "metadata": {},
   "outputs": [
    {
     "data": {
      "text/html": [
       "<div>\n",
       "<style>\n",
       "    .dataframe thead tr:only-child th {\n",
       "        text-align: right;\n",
       "    }\n",
       "\n",
       "    .dataframe thead th {\n",
       "        text-align: left;\n",
       "    }\n",
       "\n",
       "    .dataframe tbody tr th {\n",
       "        vertical-align: top;\n",
       "    }\n",
       "</style>\n",
       "<table border=\"1\" class=\"dataframe\">\n",
       "  <thead>\n",
       "    <tr style=\"text-align: right;\">\n",
       "      <th></th>\n",
       "      <th>loan_amnt</th>\n",
       "      <th>term</th>\n",
       "      <th>int_rate</th>\n",
       "      <th>installment</th>\n",
       "      <th>emp_length</th>\n",
       "      <th>home_ownership</th>\n",
       "      <th>annual_inc</th>\n",
       "      <th>verification_status</th>\n",
       "      <th>loan_status</th>\n",
       "      <th>pymnt_plan</th>\n",
       "      <th>...</th>\n",
       "      <th>initial_list_status</th>\n",
       "      <th>last_credit_pull_d</th>\n",
       "      <th>collections_12_mths_ex_med</th>\n",
       "      <th>policy_code</th>\n",
       "      <th>application_type</th>\n",
       "      <th>acc_now_delinq</th>\n",
       "      <th>chargeoff_within_12_mths</th>\n",
       "      <th>delinq_amnt</th>\n",
       "      <th>pub_rec_bankruptcies</th>\n",
       "      <th>tax_liens</th>\n",
       "    </tr>\n",
       "  </thead>\n",
       "  <tbody>\n",
       "    <tr>\n",
       "      <th>0</th>\n",
       "      <td>5000.0</td>\n",
       "      <td>36 months</td>\n",
       "      <td>10.65%</td>\n",
       "      <td>162.87</td>\n",
       "      <td>10+ years</td>\n",
       "      <td>RENT</td>\n",
       "      <td>24000.0</td>\n",
       "      <td>Verified</td>\n",
       "      <td>Fully Paid</td>\n",
       "      <td>n</td>\n",
       "      <td>...</td>\n",
       "      <td>f</td>\n",
       "      <td>Dec-2017</td>\n",
       "      <td>0.0</td>\n",
       "      <td>1.0</td>\n",
       "      <td>Individual</td>\n",
       "      <td>0.0</td>\n",
       "      <td>0.0</td>\n",
       "      <td>0.0</td>\n",
       "      <td>0.0</td>\n",
       "      <td>0.0</td>\n",
       "    </tr>\n",
       "    <tr>\n",
       "      <th>1</th>\n",
       "      <td>2500.0</td>\n",
       "      <td>60 months</td>\n",
       "      <td>15.27%</td>\n",
       "      <td>59.83</td>\n",
       "      <td>&lt; 1 year</td>\n",
       "      <td>RENT</td>\n",
       "      <td>30000.0</td>\n",
       "      <td>Source Verified</td>\n",
       "      <td>Charged Off</td>\n",
       "      <td>n</td>\n",
       "      <td>...</td>\n",
       "      <td>f</td>\n",
       "      <td>Oct-2016</td>\n",
       "      <td>0.0</td>\n",
       "      <td>1.0</td>\n",
       "      <td>Individual</td>\n",
       "      <td>0.0</td>\n",
       "      <td>0.0</td>\n",
       "      <td>0.0</td>\n",
       "      <td>0.0</td>\n",
       "      <td>0.0</td>\n",
       "    </tr>\n",
       "    <tr>\n",
       "      <th>2</th>\n",
       "      <td>2400.0</td>\n",
       "      <td>36 months</td>\n",
       "      <td>15.96%</td>\n",
       "      <td>84.33</td>\n",
       "      <td>10+ years</td>\n",
       "      <td>RENT</td>\n",
       "      <td>12252.0</td>\n",
       "      <td>Not Verified</td>\n",
       "      <td>Fully Paid</td>\n",
       "      <td>n</td>\n",
       "      <td>...</td>\n",
       "      <td>f</td>\n",
       "      <td>Jun-2017</td>\n",
       "      <td>0.0</td>\n",
       "      <td>1.0</td>\n",
       "      <td>Individual</td>\n",
       "      <td>0.0</td>\n",
       "      <td>0.0</td>\n",
       "      <td>0.0</td>\n",
       "      <td>0.0</td>\n",
       "      <td>0.0</td>\n",
       "    </tr>\n",
       "    <tr>\n",
       "      <th>3</th>\n",
       "      <td>10000.0</td>\n",
       "      <td>36 months</td>\n",
       "      <td>13.49%</td>\n",
       "      <td>339.31</td>\n",
       "      <td>10+ years</td>\n",
       "      <td>RENT</td>\n",
       "      <td>49200.0</td>\n",
       "      <td>Source Verified</td>\n",
       "      <td>Fully Paid</td>\n",
       "      <td>n</td>\n",
       "      <td>...</td>\n",
       "      <td>f</td>\n",
       "      <td>Apr-2016</td>\n",
       "      <td>0.0</td>\n",
       "      <td>1.0</td>\n",
       "      <td>Individual</td>\n",
       "      <td>0.0</td>\n",
       "      <td>0.0</td>\n",
       "      <td>0.0</td>\n",
       "      <td>0.0</td>\n",
       "      <td>0.0</td>\n",
       "    </tr>\n",
       "    <tr>\n",
       "      <th>4</th>\n",
       "      <td>3000.0</td>\n",
       "      <td>60 months</td>\n",
       "      <td>12.69%</td>\n",
       "      <td>67.79</td>\n",
       "      <td>1 year</td>\n",
       "      <td>RENT</td>\n",
       "      <td>80000.0</td>\n",
       "      <td>Source Verified</td>\n",
       "      <td>Fully Paid</td>\n",
       "      <td>n</td>\n",
       "      <td>...</td>\n",
       "      <td>f</td>\n",
       "      <td>Jan-2017</td>\n",
       "      <td>0.0</td>\n",
       "      <td>1.0</td>\n",
       "      <td>Individual</td>\n",
       "      <td>0.0</td>\n",
       "      <td>0.0</td>\n",
       "      <td>0.0</td>\n",
       "      <td>0.0</td>\n",
       "      <td>0.0</td>\n",
       "    </tr>\n",
       "  </tbody>\n",
       "</table>\n",
       "<p>5 rows × 32 columns</p>\n",
       "</div>"
      ],
      "text/plain": [
       "   loan_amnt        term int_rate  installment emp_length home_ownership  \\\n",
       "0     5000.0   36 months   10.65%       162.87  10+ years           RENT   \n",
       "1     2500.0   60 months   15.27%        59.83   < 1 year           RENT   \n",
       "2     2400.0   36 months   15.96%        84.33  10+ years           RENT   \n",
       "3    10000.0   36 months   13.49%       339.31  10+ years           RENT   \n",
       "4     3000.0   60 months   12.69%        67.79     1 year           RENT   \n",
       "\n",
       "   annual_inc verification_status  loan_status pymnt_plan    ...      \\\n",
       "0     24000.0            Verified   Fully Paid          n    ...       \n",
       "1     30000.0     Source Verified  Charged Off          n    ...       \n",
       "2     12252.0        Not Verified   Fully Paid          n    ...       \n",
       "3     49200.0     Source Verified   Fully Paid          n    ...       \n",
       "4     80000.0     Source Verified   Fully Paid          n    ...       \n",
       "\n",
       "  initial_list_status last_credit_pull_d collections_12_mths_ex_med  \\\n",
       "0                   f           Dec-2017                        0.0   \n",
       "1                   f           Oct-2016                        0.0   \n",
       "2                   f           Jun-2017                        0.0   \n",
       "3                   f           Apr-2016                        0.0   \n",
       "4                   f           Jan-2017                        0.0   \n",
       "\n",
       "   policy_code  application_type acc_now_delinq  chargeoff_within_12_mths  \\\n",
       "0          1.0        Individual            0.0                       0.0   \n",
       "1          1.0        Individual            0.0                       0.0   \n",
       "2          1.0        Individual            0.0                       0.0   \n",
       "3          1.0        Individual            0.0                       0.0   \n",
       "4          1.0        Individual            0.0                       0.0   \n",
       "\n",
       "   delinq_amnt  pub_rec_bankruptcies  tax_liens  \n",
       "0          0.0                   0.0        0.0  \n",
       "1          0.0                   0.0        0.0  \n",
       "2          0.0                   0.0        0.0  \n",
       "3          0.0                   0.0        0.0  \n",
       "4          0.0                   0.0        0.0  \n",
       "\n",
       "[5 rows x 32 columns]"
      ]
     },
     "execution_count": 55,
     "metadata": {},
     "output_type": "execute_result"
    }
   ],
   "source": [
    "loan.head()"
   ]
  },
  {
   "cell_type": "code",
   "execution_count": 56,
   "metadata": {},
   "outputs": [
    {
     "name": "stdout",
     "output_type": "stream",
     "text": [
      "Fully Paid                                             34116\n",
      "Charged Off                                             5670\n",
      "Does not meet the credit policy. Status:Fully Paid      1988\n",
      "Does not meet the credit policy. Status:Charged Off      761\n",
      "Name: loan_status, dtype: int64\n"
     ]
    }
   ],
   "source": [
    "print(loan[\"loan_status\"].value_counts())"
   ]
  },
  {
   "cell_type": "code",
   "execution_count": 57,
   "metadata": {
    "collapsed": true
   },
   "outputs": [],
   "source": [
    "mapping_dict = {\n",
    "    \"loan_status\":{\n",
    "        \"Fully Paid\": 1,\n",
    "        \"Charged Off\": 0,\n",
    "        \"Does not meet the credit policy. Status:Fully Paid\":1,\n",
    "        \"Does not meet the credit policy. Status:Charged Off\":0\n",
    "    }\n",
    "}\n",
    "loan = loan.replace(mapping_dict)"
   ]
  },
  {
   "cell_type": "code",
   "execution_count": 58,
   "metadata": {},
   "outputs": [
    {
     "name": "stdout",
     "output_type": "stream",
     "text": [
      "1.0    36104\n",
      "0.0     6431\n",
      "Name: loan_status, dtype: int64\n"
     ]
    }
   ],
   "source": [
    "print(loan[\"loan_status\"].value_counts())"
   ]
  },
  {
   "cell_type": "code",
   "execution_count": 59,
   "metadata": {},
   "outputs": [
    {
     "name": "stdout",
     "output_type": "stream",
     "text": [
      "['pymnt_plan', 'initial_list_status', 'collections_12_mths_ex_med', 'policy_code', 'application_type', 'chargeoff_within_12_mths']\n"
     ]
    }
   ],
   "source": [
    "#remove cols with only one unique value\n",
    "drop_columns = []\n",
    "for col in loan.columns:\n",
    "    col_series = loan[col].dropna().unique()\n",
    "    if len(col_series) == 1:\n",
    "        drop_columns.append(col)\n",
    "loan = loan.drop(drop_columns, axis=1)\n",
    "print(drop_columns)"
   ]
  },
  {
   "cell_type": "code",
   "execution_count": 61,
   "metadata": {},
   "outputs": [
    {
     "data": {
      "text/plain": [
       "loan_amnt                  3\n",
       "term                       3\n",
       "int_rate                   3\n",
       "installment                3\n",
       "emp_length                 3\n",
       "home_ownership             3\n",
       "annual_inc                 7\n",
       "verification_status        3\n",
       "loan_status                3\n",
       "purpose                    3\n",
       "title                     15\n",
       "addr_state                 3\n",
       "dti                        3\n",
       "delinq_2yrs               32\n",
       "earliest_cr_line          32\n",
       "inq_last_6mths            32\n",
       "open_acc                  32\n",
       "pub_rec                   32\n",
       "revol_bal                  3\n",
       "revol_util                93\n",
       "total_acc                 32\n",
       "last_credit_pull_d         7\n",
       "acc_now_delinq            32\n",
       "delinq_amnt               32\n",
       "pub_rec_bankruptcies    1368\n",
       "tax_liens                108\n",
       "dtype: int64"
      ]
     },
     "execution_count": 61,
     "metadata": {},
     "output_type": "execute_result"
    }
   ],
   "source": [
    "loan.isnull().sum()"
   ]
  },
  {
   "cell_type": "code",
   "execution_count": 64,
   "metadata": {
    "collapsed": true
   },
   "outputs": [],
   "source": [
    "loan = loan.drop(\"pub_rec_bankruptcies\", axis = 1)"
   ]
  },
  {
   "cell_type": "code",
   "execution_count": 65,
   "metadata": {
    "collapsed": true
   },
   "outputs": [],
   "source": [
    "loan = loan.dropna(axis = 0)"
   ]
  },
  {
   "cell_type": "code",
   "execution_count": 73,
   "metadata": {},
   "outputs": [
    {
     "data": {
      "text/plain": [
       "<bound method IndexOpsMixin.value_counts of loan_amnt              float64\n",
       "term                    object\n",
       "int_rate                object\n",
       "installment            float64\n",
       "emp_length              object\n",
       "home_ownership          object\n",
       "annual_inc             float64\n",
       "verification_status     object\n",
       "loan_status            float64\n",
       "purpose                 object\n",
       "title                   object\n",
       "addr_state              object\n",
       "dti                    float64\n",
       "delinq_2yrs            float64\n",
       "earliest_cr_line        object\n",
       "inq_last_6mths         float64\n",
       "open_acc               float64\n",
       "pub_rec                float64\n",
       "revol_bal              float64\n",
       "revol_util              object\n",
       "total_acc              float64\n",
       "last_credit_pull_d      object\n",
       "acc_now_delinq         float64\n",
       "delinq_amnt            float64\n",
       "tax_liens              float64\n",
       "dtype: object>"
      ]
     },
     "execution_count": 73,
     "metadata": {},
     "output_type": "execute_result"
    }
   ],
   "source": [
    "loan.dtypes.value_counts"
   ]
  },
  {
   "cell_type": "code",
   "execution_count": 74,
   "metadata": {},
   "outputs": [
    {
     "data": {
      "text/html": [
       "<div>\n",
       "<style>\n",
       "    .dataframe thead tr:only-child th {\n",
       "        text-align: right;\n",
       "    }\n",
       "\n",
       "    .dataframe thead th {\n",
       "        text-align: left;\n",
       "    }\n",
       "\n",
       "    .dataframe tbody tr th {\n",
       "        vertical-align: top;\n",
       "    }\n",
       "</style>\n",
       "<table border=\"1\" class=\"dataframe\">\n",
       "  <thead>\n",
       "    <tr style=\"text-align: right;\">\n",
       "      <th></th>\n",
       "      <th>term</th>\n",
       "      <th>int_rate</th>\n",
       "      <th>emp_length</th>\n",
       "      <th>home_ownership</th>\n",
       "      <th>verification_status</th>\n",
       "      <th>purpose</th>\n",
       "      <th>title</th>\n",
       "      <th>addr_state</th>\n",
       "      <th>earliest_cr_line</th>\n",
       "      <th>revol_util</th>\n",
       "      <th>last_credit_pull_d</th>\n",
       "    </tr>\n",
       "  </thead>\n",
       "  <tbody>\n",
       "    <tr>\n",
       "      <th>0</th>\n",
       "      <td>36 months</td>\n",
       "      <td>10.65%</td>\n",
       "      <td>10+ years</td>\n",
       "      <td>RENT</td>\n",
       "      <td>Verified</td>\n",
       "      <td>credit_card</td>\n",
       "      <td>Computer</td>\n",
       "      <td>AZ</td>\n",
       "      <td>Jan-1985</td>\n",
       "      <td>83.7%</td>\n",
       "      <td>Dec-2017</td>\n",
       "    </tr>\n",
       "    <tr>\n",
       "      <th>1</th>\n",
       "      <td>60 months</td>\n",
       "      <td>15.27%</td>\n",
       "      <td>&lt; 1 year</td>\n",
       "      <td>RENT</td>\n",
       "      <td>Source Verified</td>\n",
       "      <td>car</td>\n",
       "      <td>bike</td>\n",
       "      <td>GA</td>\n",
       "      <td>Apr-1999</td>\n",
       "      <td>9.4%</td>\n",
       "      <td>Oct-2016</td>\n",
       "    </tr>\n",
       "    <tr>\n",
       "      <th>2</th>\n",
       "      <td>36 months</td>\n",
       "      <td>15.96%</td>\n",
       "      <td>10+ years</td>\n",
       "      <td>RENT</td>\n",
       "      <td>Not Verified</td>\n",
       "      <td>small_business</td>\n",
       "      <td>real estate business</td>\n",
       "      <td>IL</td>\n",
       "      <td>Nov-2001</td>\n",
       "      <td>98.5%</td>\n",
       "      <td>Jun-2017</td>\n",
       "    </tr>\n",
       "    <tr>\n",
       "      <th>3</th>\n",
       "      <td>36 months</td>\n",
       "      <td>13.49%</td>\n",
       "      <td>10+ years</td>\n",
       "      <td>RENT</td>\n",
       "      <td>Source Verified</td>\n",
       "      <td>other</td>\n",
       "      <td>personel</td>\n",
       "      <td>CA</td>\n",
       "      <td>Feb-1996</td>\n",
       "      <td>21%</td>\n",
       "      <td>Apr-2016</td>\n",
       "    </tr>\n",
       "    <tr>\n",
       "      <th>4</th>\n",
       "      <td>60 months</td>\n",
       "      <td>12.69%</td>\n",
       "      <td>1 year</td>\n",
       "      <td>RENT</td>\n",
       "      <td>Source Verified</td>\n",
       "      <td>other</td>\n",
       "      <td>Personal</td>\n",
       "      <td>OR</td>\n",
       "      <td>Jan-1996</td>\n",
       "      <td>53.9%</td>\n",
       "      <td>Jan-2017</td>\n",
       "    </tr>\n",
       "  </tbody>\n",
       "</table>\n",
       "</div>"
      ],
      "text/plain": [
       "         term int_rate emp_length home_ownership verification_status  \\\n",
       "0   36 months   10.65%  10+ years           RENT            Verified   \n",
       "1   60 months   15.27%   < 1 year           RENT     Source Verified   \n",
       "2   36 months   15.96%  10+ years           RENT        Not Verified   \n",
       "3   36 months   13.49%  10+ years           RENT     Source Verified   \n",
       "4   60 months   12.69%     1 year           RENT     Source Verified   \n",
       "\n",
       "          purpose                 title addr_state earliest_cr_line  \\\n",
       "0     credit_card              Computer         AZ         Jan-1985   \n",
       "1             car                  bike         GA         Apr-1999   \n",
       "2  small_business  real estate business         IL         Nov-2001   \n",
       "3           other              personel         CA         Feb-1996   \n",
       "4           other              Personal         OR         Jan-1996   \n",
       "\n",
       "  revol_util last_credit_pull_d  \n",
       "0      83.7%           Dec-2017  \n",
       "1       9.4%           Oct-2016  \n",
       "2      98.5%           Jun-2017  \n",
       "3        21%           Apr-2016  \n",
       "4      53.9%           Jan-2017  "
      ]
     },
     "execution_count": 74,
     "metadata": {},
     "output_type": "execute_result"
    }
   ],
   "source": [
    "obj_cols = loan.select_dtypes(include = [\"object\"])\n",
    "obj_cols.head()"
   ]
  },
  {
   "cell_type": "code",
   "execution_count": 76,
   "metadata": {},
   "outputs": [
    {
     "name": "stdout",
     "output_type": "stream",
     "text": [
      "RENT        20087\n",
      "MORTGAGE    18902\n",
      "OWN          3231\n",
      "OTHER         134\n",
      "NONE            2\n",
      "Name: home_ownership, dtype: int64\n",
      "Not Verified       18608\n",
      "Verified           13458\n",
      "Source Verified    10290\n",
      "Name: verification_status, dtype: int64\n",
      "10+ years    9355\n",
      "< 1 year     5003\n",
      "2 years      4727\n",
      "3 years      4354\n",
      "4 years      3633\n",
      "1 year       3567\n",
      "5 years      3449\n",
      "6 years      2368\n",
      "7 years      1868\n",
      "8 years      1587\n",
      "9 years      1337\n",
      "n/a          1108\n",
      "Name: emp_length, dtype: int64\n",
      " 36 months    31363\n",
      " 60 months    10993\n",
      "Name: term, dtype: int64\n",
      "CA    7418\n",
      "NY    4044\n",
      "FL    3085\n",
      "TX    2906\n",
      "NJ    1978\n",
      "IL    1670\n",
      "PA    1645\n",
      "GA    1495\n",
      "VA    1484\n",
      "MA    1417\n",
      "OH    1323\n",
      "MD    1121\n",
      "AZ     928\n",
      "WA     887\n",
      "CO     852\n",
      "NC     824\n",
      "CT     810\n",
      "MI     795\n",
      "MO     760\n",
      "MN     649\n",
      "NV     526\n",
      "WI     509\n",
      "SC     489\n",
      "AL     483\n",
      "OR     467\n",
      "LA     460\n",
      "KY     358\n",
      "OK     316\n",
      "KS     296\n",
      "UT     278\n",
      "AR     260\n",
      "DC     222\n",
      "RI     208\n",
      "NM     205\n",
      "NH     188\n",
      "WV     187\n",
      "HI     180\n",
      "DE     135\n",
      "MT      96\n",
      "WY      86\n",
      "AK      86\n",
      "SD      66\n",
      "VT      57\n",
      "TN      32\n",
      "MS      26\n",
      "IN      15\n",
      "IA      12\n",
      "NE      11\n",
      "ID       9\n",
      "ME       2\n",
      "Name: addr_state, dtype: int64\n",
      "debt_consolidation    19736\n",
      "credit_card            5450\n",
      "other                  4371\n",
      "home_improvement       3187\n",
      "major_purchase         2304\n",
      "small_business         1984\n",
      "car                    1610\n",
      "wedding                1003\n",
      "medical                 751\n",
      "moving                  624\n",
      "house                   424\n",
      "educational             409\n",
      "vacation                397\n",
      "renewable_energy        106\n",
      "Name: purpose, dtype: int64\n",
      "Debt Consolidation                    2255\n",
      "Debt Consolidation Loan               1759\n",
      "Personal Loan                          706\n",
      "Consolidation                          545\n",
      "debt consolidation                     532\n",
      "Home Improvement                       372\n",
      "Credit Card Consolidation              370\n",
      "Debt consolidation                     345\n",
      "Small Business Loan                    333\n",
      "Personal                               330\n",
      "Credit Card Loan                       323\n",
      "personal loan                          264\n",
      "Consolidation Loan                     263\n",
      "Home Improvement Loan                  255\n",
      "personal                               246\n",
      "Loan                                   218\n",
      "Wedding Loan                           217\n",
      "consolidation                          217\n",
      "Car Loan                               206\n",
      "Other Loan                             192\n",
      "Credit Card Payoff                     163\n",
      "Wedding                                160\n",
      "Credit Card Refinance                  147\n",
      "Major Purchase Loan                    146\n",
      "Consolidate                            141\n",
      "Medical                                124\n",
      "Credit Card                            122\n",
      "home improvement                       117\n",
      "My Loan                                 95\n",
      "Credit Cards                            94\n",
      "                                      ... \n",
      "Time To Get The Finances In Order!       1\n",
      "FinalCCPayment                           1\n",
      "Post-College Debt Consolidation          1\n",
      "paybackcards                             1\n",
      "Three Long Years                         1\n",
      "High Interest CC Payoff                  1\n",
      "My GREEN PROJECT IN HOME                 1\n",
      "In Credit Card Recovery!!                1\n",
      "Personal Consid                          1\n",
      "Furniture Purchase                       1\n",
      "pay off high interest debt               1\n",
      "Furniture/Improvements                   1\n",
      "consolidate debt and fund hobby          1\n",
      "Loan to remodel my kitchen               1\n",
      "Future                                   1\n",
      "my credit loan                           1\n",
      "business loan                            1\n",
      "Bmw                                      1\n",
      "Lower rates                              1\n",
      "Consolodating Student Loans              1\n",
      "Bridge to new contract                   1\n",
      "Short Term Financing Needed              1\n",
      "Paying too much interest                 1\n",
      "My conslidation loan                     1\n",
      "Life-Saver Loan                          1\n",
      "Consolidate my credit cards              1\n",
      "consolidation!!                          1\n",
      "Move to Michigan                         1\n",
      "JL Vacation                              1\n",
      "Wheels                                   1\n",
      "Name: title, Length: 21160, dtype: int64\n"
     ]
    }
   ],
   "source": [
    "#explore the cols appear to be categorical\n",
    "cols = [\"home_ownership\", \"verification_status\", \"emp_length\", \"term\", \"addr_state\", \"purpose\", \"title\"]\n",
    "for col in cols:\n",
    "    print(loan[col].value_counts())"
   ]
  },
  {
   "cell_type": "code",
   "execution_count": 77,
   "metadata": {
    "collapsed": true
   },
   "outputs": [],
   "source": [
    "# remove addr_state (as it would add too many dummy variables), last_credit_pull_d, earliest_cr_line, title(low data quality and overlap with purpose)\n",
    "loan = loan.drop([\"last_credit_pull_d\", \"addr_state\", \"title\", \"earliest_cr_line\"], axis = 1)"
   ]
  },
  {
   "cell_type": "code",
   "execution_count": 79,
   "metadata": {
    "collapsed": true
   },
   "outputs": [],
   "source": [
    "#convert int_rate and revol_util to float\n",
    "int_rate = loan[\"int_rate\"].str.strip('%')\n",
    "int_rate = int_rate.astype('float')\n",
    "revol_util = loan[\"revol_util\"].str.strip('%')\n",
    "revol_util = revol_util.astype('float')"
   ]
  },
  {
   "cell_type": "code",
   "execution_count": 81,
   "metadata": {
    "collapsed": true
   },
   "outputs": [],
   "source": [
    "loan[\"int_rate\"] = int_rate\n",
    "loan[\"revol_util\"] = revol_util"
   ]
  },
  {
   "cell_type": "code",
   "execution_count": 82,
   "metadata": {
    "collapsed": true
   },
   "outputs": [],
   "source": [
    "#convert emp_length to numerical\n",
    "mapping_dict = {\n",
    "    \"emp_length\":{\n",
    "        \"10+ years\": 10,\n",
    "        \"9 years\": 9,\n",
    "        \"8 years\": 8,\n",
    "        \"7 years\": 7,\n",
    "        \"6 years\": 6,\n",
    "        \"5 years\": 5,\n",
    "        \"4 years\": 4,\n",
    "        \"3 years\": 3,\n",
    "        \"2 years\": 2,\n",
    "        \"1 year\": 1,\n",
    "        \"< 1 year\": 0,\n",
    "        \"n/a\": 0\n",
    "    }\n",
    "}\n",
    "loan = loan.replace(mapping_dict)"
   ]
  },
  {
   "cell_type": "code",
   "execution_count": 84,
   "metadata": {
    "collapsed": true
   },
   "outputs": [],
   "source": [
    "# convert the remaining categorical cols as dummy cols\n",
    "cols = [\"home_ownership\", \"verification_status\", \"purpose\", \"term\"]\n",
    "for col in cols:\n",
    "    loan[col] = loan[col].astype(\"category\")"
   ]
  },
  {
   "cell_type": "code",
   "execution_count": 86,
   "metadata": {
    "collapsed": true
   },
   "outputs": [],
   "source": [
    "dummy_df = pd.get_dummies(loan[cols])\n",
    "loan = pd.concat([loan, dummy_df],axis = 1)\n",
    "loan = loan.drop(cols, axis = 1)"
   ]
  },
  {
   "cell_type": "code",
   "execution_count": 90,
   "metadata": {},
   "outputs": [
    {
     "name": "stdout",
     "output_type": "stream",
     "text": [
      "<class 'pandas.core.frame.DataFrame'>\n",
      "Int64Index: 42356 entries, 0 to 42478\n",
      "Data columns (total 41 columns):\n",
      "loan_amnt                              42356 non-null float64\n",
      "int_rate                               42356 non-null float64\n",
      "installment                            42356 non-null float64\n",
      "emp_length                             42356 non-null int64\n",
      "annual_inc                             42356 non-null float64\n",
      "loan_status                            42356 non-null float64\n",
      "dti                                    42356 non-null float64\n",
      "delinq_2yrs                            42356 non-null float64\n",
      "inq_last_6mths                         42356 non-null float64\n",
      "open_acc                               42356 non-null float64\n",
      "pub_rec                                42356 non-null float64\n",
      "revol_bal                              42356 non-null float64\n",
      "revol_util                             42356 non-null float64\n",
      "total_acc                              42356 non-null float64\n",
      "acc_now_delinq                         42356 non-null float64\n",
      "delinq_amnt                            42356 non-null float64\n",
      "tax_liens                              42356 non-null float64\n",
      "home_ownership_MORTGAGE                42356 non-null uint8\n",
      "home_ownership_NONE                    42356 non-null uint8\n",
      "home_ownership_OTHER                   42356 non-null uint8\n",
      "home_ownership_OWN                     42356 non-null uint8\n",
      "home_ownership_RENT                    42356 non-null uint8\n",
      "verification_status_Not Verified       42356 non-null uint8\n",
      "verification_status_Source Verified    42356 non-null uint8\n",
      "verification_status_Verified           42356 non-null uint8\n",
      "purpose_car                            42356 non-null uint8\n",
      "purpose_credit_card                    42356 non-null uint8\n",
      "purpose_debt_consolidation             42356 non-null uint8\n",
      "purpose_educational                    42356 non-null uint8\n",
      "purpose_home_improvement               42356 non-null uint8\n",
      "purpose_house                          42356 non-null uint8\n",
      "purpose_major_purchase                 42356 non-null uint8\n",
      "purpose_medical                        42356 non-null uint8\n",
      "purpose_moving                         42356 non-null uint8\n",
      "purpose_other                          42356 non-null uint8\n",
      "purpose_renewable_energy               42356 non-null uint8\n",
      "purpose_small_business                 42356 non-null uint8\n",
      "purpose_vacation                       42356 non-null uint8\n",
      "purpose_wedding                        42356 non-null uint8\n",
      "term_ 36 months                        42356 non-null uint8\n",
      "term_ 60 months                        42356 non-null uint8\n",
      "dtypes: float64(16), int64(1), uint8(24)\n",
      "memory usage: 6.8 MB\n"
     ]
    }
   ],
   "source": [
    "loan.info()"
   ]
  },
  {
   "cell_type": "code",
   "execution_count": 102,
   "metadata": {
    "collapsed": true
   },
   "outputs": [],
   "source": [
    "features = loan.columns\n",
    "features = features.tolist()\n",
    "features.remove(\"loan_status\")\n",
    "target = loan[\"loan_status\"]"
   ]
  },
  {
   "cell_type": "code",
   "execution_count": 107,
   "metadata": {},
   "outputs": [
    {
     "name": "stdout",
     "output_type": "stream",
     "text": [
      "0.9993034077293879 0.9985837922895358\n"
     ]
    }
   ],
   "source": [
    "# fit with logistic regression model first\n",
    "from sklearn.linear_model import LogisticRegression\n",
    "from sklearn.cross_validation import cross_val_predict, KFold\n",
    "lr = LogisticRegression()\n",
    "kf = KFold(loan[features].shape[0], random_state = 1)\n",
    "predictions = cross_val_predict(lr, loan[features], target, cv = kf)\n",
    "predictions = pd.Series(predictions)\n",
    "# False positives.\n",
    "fp_filter = (predictions == 1) & (loan[\"loan_status\"] == 0)\n",
    "fp = len(predictions[fp_filter])\n",
    "\n",
    "# True positives.\n",
    "tp_filter = (predictions == 1) & (loan[\"loan_status\"] == 1)\n",
    "tp = len(predictions[tp_filter])\n",
    "\n",
    "# False negatives.\n",
    "fn_filter = (predictions == 0) & (loan[\"loan_status\"] == 1)\n",
    "fn = len(predictions[fn_filter])\n",
    "\n",
    "# True negatives\n",
    "tn_filter = (predictions == 0) & (loan[\"loan_status\"] == 0)\n",
    "tn = len(predictions[tn_filter])\n",
    "\n",
    "# Rates\n",
    "tpr = tp / (tp + fn) #recall\n",
    "fpr = fp / (fp + tn) #fall-out\n",
    "\n",
    "print(tpr, fpr)"
   ]
  },
  {
   "cell_type": "code",
   "execution_count": 108,
   "metadata": {},
   "outputs": [
    {
     "name": "stdout",
     "output_type": "stream",
     "text": [
      "0.6338989662570704 0.5741935483870968\n"
     ]
    }
   ],
   "source": [
    "# Both tpr and fpr are high as the data is highly category imbalanced. (1s are a lot more than 0s), setting the class_weight parameter to balanced will help to solve the problem\n",
    "lr = LogisticRegression(class_weight = \"balanced\")\n",
    "kf = KFold(loan[features].shape[0], random_state = 1)\n",
    "predictions = cross_val_predict(lr, loan[features], target, cv = kf)\n",
    "predictions = pd.Series(predictions)\n",
    "# False positives.\n",
    "fp_filter = (predictions == 1) & (loan[\"loan_status\"] == 0)\n",
    "fp = len(predictions[fp_filter])\n",
    "\n",
    "# True positives.\n",
    "tp_filter = (predictions == 1) & (loan[\"loan_status\"] == 1)\n",
    "tp = len(predictions[tp_filter])\n",
    "\n",
    "# False negatives.\n",
    "fn_filter = (predictions == 0) & (loan[\"loan_status\"] == 1)\n",
    "fn = len(predictions[fn_filter])\n",
    "\n",
    "# True negatives\n",
    "tn_filter = (predictions == 0) & (loan[\"loan_status\"] == 0)\n",
    "tn = len(predictions[tn_filter])\n",
    "\n",
    "# Rates\n",
    "tpr = tp / (tp + fn) #recall\n",
    "fpr = fp / (fp + tn) #fall-out\n",
    "\n",
    "print(tpr, fpr)"
   ]
  },
  {
   "cell_type": "markdown",
   "metadata": {},
   "source": [
    "In this proj, we are particularly concerned about lowering the false positive rate, so we'd like to apply a harsher penalty for misclassifying the negative class"
   ]
  },
  {
   "cell_type": "code",
   "execution_count": 109,
   "metadata": {},
   "outputs": [
    {
     "name": "stdout",
     "output_type": "stream",
     "text": [
      "0.18181058262977515 0.16443745082612116\n"
     ]
    }
   ],
   "source": [
    "penalty = {0: 10, 1: 1}\n",
    "lr = LogisticRegression(class_weight = penalty)\n",
    "kf = KFold(loan[features].shape[0], random_state = 1)\n",
    "predictions = cross_val_predict(lr, loan[features], target, cv = kf)\n",
    "predictions = pd.Series(predictions)\n",
    "# False positives.\n",
    "fp_filter = (predictions == 1) & (loan[\"loan_status\"] == 0)\n",
    "fp = len(predictions[fp_filter])\n",
    "\n",
    "# True positives.\n",
    "tp_filter = (predictions == 1) & (loan[\"loan_status\"] == 1)\n",
    "tp = len(predictions[tp_filter])\n",
    "\n",
    "# False negatives.\n",
    "fn_filter = (predictions == 0) & (loan[\"loan_status\"] == 1)\n",
    "fn = len(predictions[fn_filter])\n",
    "\n",
    "# True negatives\n",
    "tn_filter = (predictions == 0) & (loan[\"loan_status\"] == 0)\n",
    "tn = len(predictions[tn_filter])\n",
    "\n",
    "# Rates\n",
    "tpr = tp / (tp + fn) #recall\n",
    "fpr = fp / (fp + tn) #fall-out\n",
    "\n",
    "print(tpr, fpr)"
   ]
  },
  {
   "cell_type": "code",
   "execution_count": 117,
   "metadata": {},
   "outputs": [
    {
     "name": "stdout",
     "output_type": "stream",
     "text": [
      "0.5706483880854858 0.53705743509048\n"
     ]
    }
   ],
   "source": [
    "# try fitting a random forest, which is expected to perform better due to the nonlinear relationship between many variables and the target\n",
    "from sklearn.ensemble import RandomForestClassifier\n",
    "penalty = {0: 20, 1: 1}\n",
    "rfc = RandomForestClassifier(class_weight = penalty, random_state = 1, max_depth = 15)\n",
    "kf = KFold(loan[features].shape[0], random_state = 1)\n",
    "predictions = cross_val_predict(rfc, loan[features], target, cv = kf)\n",
    "predictions = pd.Series(predictions)\n",
    "# False positives.\n",
    "fp_filter = (predictions == 1) & (loan[\"loan_status\"] == 0)\n",
    "fp = len(predictions[fp_filter])\n",
    "\n",
    "# True positives.\n",
    "tp_filter = (predictions == 1) & (loan[\"loan_status\"] == 1)\n",
    "tp = len(predictions[tp_filter])\n",
    "\n",
    "# False negatives.\n",
    "fn_filter = (predictions == 0) & (loan[\"loan_status\"] == 1)\n",
    "fn = len(predictions[fn_filter])\n",
    "\n",
    "# True negatives\n",
    "tn_filter = (predictions == 0) & (loan[\"loan_status\"] == 0)\n",
    "tn = len(predictions[tn_filter])\n",
    "\n",
    "# Rates\n",
    "tpr = tp / (tp + fn) #recall\n",
    "fpr = fp / (fp + tn) #fall-out\n",
    "\n",
    "print(tpr, fpr)"
   ]
  },
  {
   "cell_type": "code",
   "execution_count": null,
   "metadata": {
    "collapsed": true
   },
   "outputs": [],
   "source": []
  }
 ],
 "metadata": {
  "kernelspec": {
   "display_name": "Python 3",
   "language": "python",
   "name": "python3"
  },
  "language_info": {
   "codemirror_mode": {
    "name": "ipython",
    "version": 3
   },
   "file_extension": ".py",
   "mimetype": "text/x-python",
   "name": "python",
   "nbconvert_exporter": "python",
   "pygments_lexer": "ipython3",
   "version": "3.6.3"
  }
 },
 "nbformat": 4,
 "nbformat_minor": 2
}
