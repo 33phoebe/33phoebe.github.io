{
 "cells": [
  {
   "cell_type": "code",
   "execution_count": 19,
   "metadata": {
    "collapsed": true
   },
   "outputs": [],
   "source": [
    "import pandas as pd\n",
    "import sqlite3"
   ]
  },
  {
   "cell_type": "code",
   "execution_count": 20,
   "metadata": {},
   "outputs": [
    {
     "name": "stdout",
     "output_type": "stream",
     "text": [
      "          Year               Category          Nominee  \\\n",
      "0  2010 (83rd)  Actor -- Leading Role    Javier Bardem   \n",
      "1  2010 (83rd)  Actor -- Leading Role     Jeff Bridges   \n",
      "2  2010 (83rd)  Actor -- Leading Role  Jesse Eisenberg   \n",
      "3  2010 (83rd)  Actor -- Leading Role      Colin Firth   \n",
      "4  2010 (83rd)  Actor -- Leading Role     James Franco   \n",
      "\n",
      "                          Additional Info Won? Unnamed: 5 Unnamed: 6  \\\n",
      "0                      Biutiful {'Uxbal'}   NO        NaN        NaN   \n",
      "1           True Grit {'Rooster Cogburn'}   NO        NaN        NaN   \n",
      "2  The Social Network {'Mark Zuckerberg'}   NO        NaN        NaN   \n",
      "3    The King's Speech {'King George VI'}  YES        NaN        NaN   \n",
      "4              127 Hours {'Aron Ralston'}   NO        NaN        NaN   \n",
      "\n",
      "  Unnamed: 7 Unnamed: 8 Unnamed: 9 Unnamed: 10  \n",
      "0        NaN        NaN        NaN         NaN  \n",
      "1        NaN        NaN        NaN         NaN  \n",
      "2        NaN        NaN        NaN         NaN  \n",
      "3        NaN        NaN        NaN         NaN  \n",
      "4        NaN        NaN        NaN         NaN  \n",
      "(10137, 11)\n"
     ]
    }
   ],
   "source": [
    "df = pd.read_csv(\"Data/academy_awards.csv\", encoding = \"ISO-8859-1\")\n",
    "print(df.head())\n",
    "print(df.shape)"
   ]
  },
  {
   "cell_type": "markdown",
   "metadata": {},
   "source": [
    "this dataset is a edited version of kaggle's academy-awards dataset, include all the nominees and winners in Oscar history 1927-2010"
   ]
  },
  {
   "cell_type": "code",
   "execution_count": 38,
   "metadata": {},
   "outputs": [
    {
     "name": "stdout",
     "output_type": "stream",
     "text": [
      "NO                                                                                                                                                                                              7168\n",
      "YES                                                                                                                                                                                             2955\n",
      " water and avalanches with familiar operators inspired by image compositing and painting operations. [Digital Imaging Technology]\"                                                                 1\n",
      "000 agents were controlled in several scenes. [Digital Imaging Technology]\"                                                                                                                        1\n",
      " as well as 3D prosthetic appliances ranging in size from small wounds to entire torsos. They utilize self-adhesive material that features an unprecedented combination of tissue-thin edges       1\n",
      " the Academy presents a Special Award to that master of fun                                                                                                                                        1\n",
      " complex cloth could be achieved efficiently and robustly. Their work provided the conceptual foundation for many cloth simulation systems in use today. [Digital Imaging Technology]\"             1\n",
      " direct radiator style motion picture loudspeaker systems. The work of John M. Eargle                                                                                                              1\n",
      " for his contributions to the development of motion pictures as entertainment.\"                                                                                                                    1\n",
      " economic and realistic filming of action sequences that may involve principal actors and dialogue. [Stage Operations]\"                                                                            1\n",
      " this premier reference manual has had a significant impact on decades of motion picture photography around the world.\"                                                                            1\n",
      " and Tails\" numbers from Top Hat [came in 2nd]\"                                                                                                                                                    1\n",
      " which significantly reduces the need for painstaking                                                                                                                                              1\n",
      " deforming objects. [Digital Imaging Technology]\"                                                                                                                                                  1\n",
      " the \"Caricature\" system provides a degree of subtlety and refinement not possible with other systems. [Special Photographic]\"                                                                     1\n",
      " more conventional fog units. [Stage Operations]\"                                                                                                                                                  1\n",
      "Name: Won?, dtype: int64\n",
      "*                                                                                                               7\n",
      " discoverer of stars                                                                                            1\n",
      " resilience                                                                                                     1\n",
      " error-prone measurements on sets. [Digital Imaging Technology]\"                                                1\n",
      " D.B. \"Don\" Keele and Mark E. Engebretson has resulted in the over 20-year dominance of constant-directivity    1\n",
      "Name: Unnamed: 5, dtype: int64\n",
      "*                                                                   9\n",
      " direct radiator bass style cinema loudspeaker systems. [Sound]\"    1\n",
      " flexibility and water resistance                                   1\n",
      " sympathetic                                                        1\n",
      "Name: Unnamed: 6, dtype: int64\n",
      "*                                                     1\n",
      " while requiring no dangerous solvents. [Systems]\"    1\n",
      " kindly                                               1\n",
      "Name: Unnamed: 7, dtype: int64\n",
      " understanding comedy genius - Mack Sennett.\"\"    1\n",
      "*                                                 1\n",
      "Name: Unnamed: 8, dtype: int64\n",
      "*    1\n",
      "Name: Unnamed: 9, dtype: int64\n",
      "*    1\n",
      "Name: Unnamed: 10, dtype: int64\n"
     ]
    }
   ],
   "source": [
    "unnamed_cols = df.columns.tolist()[4:]\n",
    "for i in unnamed_cols:\n",
    "    print(df[i].value_counts())"
   ]
  },
  {
   "cell_type": "code",
   "execution_count": 22,
   "metadata": {
    "collapsed": true
   },
   "outputs": [],
   "source": [
    "#remove additional info from var \"Year\" and convert it to integer\n",
    "df[\"Year\"] = df[\"Year\"].str[:4].astype(\"int64\")"
   ]
  },
  {
   "cell_type": "code",
   "execution_count": 23,
   "metadata": {},
   "outputs": [
    {
     "name": "stdout",
     "output_type": "stream",
     "text": [
      "   Year               Category          Nominee  \\\n",
      "0  2010  Actor -- Leading Role    Javier Bardem   \n",
      "1  2010  Actor -- Leading Role     Jeff Bridges   \n",
      "2  2010  Actor -- Leading Role  Jesse Eisenberg   \n",
      "3  2010  Actor -- Leading Role      Colin Firth   \n",
      "4  2010  Actor -- Leading Role     James Franco   \n",
      "\n",
      "                          Additional Info Won? Unnamed: 5 Unnamed: 6  \\\n",
      "0                      Biutiful {'Uxbal'}   NO        NaN        NaN   \n",
      "1           True Grit {'Rooster Cogburn'}   NO        NaN        NaN   \n",
      "2  The Social Network {'Mark Zuckerberg'}   NO        NaN        NaN   \n",
      "3    The King's Speech {'King George VI'}  YES        NaN        NaN   \n",
      "4              127 Hours {'Aron Ralston'}   NO        NaN        NaN   \n",
      "\n",
      "  Unnamed: 7 Unnamed: 8 Unnamed: 9 Unnamed: 10  \n",
      "0        NaN        NaN        NaN         NaN  \n",
      "1        NaN        NaN        NaN         NaN  \n",
      "2        NaN        NaN        NaN         NaN  \n",
      "3        NaN        NaN        NaN         NaN  \n",
      "4        NaN        NaN        NaN         NaN  \n"
     ]
    }
   ],
   "source": [
    "print(df.head())"
   ]
  },
  {
   "cell_type": "code",
   "execution_count": 25,
   "metadata": {},
   "outputs": [
    {
     "data": {
      "text/plain": [
       "(1294, 11)"
      ]
     },
     "execution_count": 25,
     "metadata": {},
     "output_type": "execute_result"
    }
   ],
   "source": [
    "#filter out the awards after 2000\n",
    "lt2000 = df[df[\"Year\"] > 2000]\n",
    "lt2000.shape"
   ]
  },
  {
   "cell_type": "code",
   "execution_count": 28,
   "metadata": {},
   "outputs": [
    {
     "data": {
      "text/plain": [
       "(200, 11)"
      ]
     },
     "execution_count": 28,
     "metadata": {},
     "output_type": "execute_result"
    }
   ],
   "source": [
    "#filter out the categories that are not within the actor-related categories\n",
    "award_categories = [\"Actress -- Supporting Role\", \"Actor -- Leading Role\", \"Actress -- Leading Role\", \"Actor -- Supporting Role\"]\n",
    "nominations = lt2000[lt2000[\"Category\"].isin(award_categories)]\n",
    "nominations.shape"
   ]
  },
  {
   "cell_type": "code",
   "execution_count": 36,
   "metadata": {},
   "outputs": [
    {
     "name": "stderr",
     "output_type": "stream",
     "text": [
      "/Applications/anaconda3/lib/python3.6/site-packages/ipykernel_launcher.py:2: SettingWithCopyWarning: \n",
      "A value is trying to be set on a copy of a slice from a DataFrame.\n",
      "Try using .loc[row_indexer,col_indexer] = value instead\n",
      "\n",
      "See the caveats in the documentation: http://pandas.pydata.org/pandas-docs/stable/indexing.html#indexing-view-versus-copy\n",
      "  \n"
     ]
    }
   ],
   "source": [
    "yes_no = {\"YES\" : 1, \"NO\": 0}\n",
    "nominations[\"Won\"] = nominations[\"Won?\"]"
   ]
  },
  {
   "cell_type": "code",
   "execution_count": 37,
   "metadata": {},
   "outputs": [
    {
     "data": {
      "text/html": [
       "<div>\n",
       "<style>\n",
       "    .dataframe thead tr:only-child th {\n",
       "        text-align: right;\n",
       "    }\n",
       "\n",
       "    .dataframe thead th {\n",
       "        text-align: left;\n",
       "    }\n",
       "\n",
       "    .dataframe tbody tr th {\n",
       "        vertical-align: top;\n",
       "    }\n",
       "</style>\n",
       "<table border=\"1\" class=\"dataframe\">\n",
       "  <thead>\n",
       "    <tr style=\"text-align: right;\">\n",
       "      <th></th>\n",
       "      <th>Year</th>\n",
       "      <th>Category</th>\n",
       "      <th>Nominee</th>\n",
       "      <th>Additional Info</th>\n",
       "      <th>Won?</th>\n",
       "      <th>Unnamed: 5</th>\n",
       "      <th>Unnamed: 6</th>\n",
       "      <th>Unnamed: 7</th>\n",
       "      <th>Unnamed: 8</th>\n",
       "      <th>Unnamed: 9</th>\n",
       "      <th>Unnamed: 10</th>\n",
       "      <th>Won</th>\n",
       "    </tr>\n",
       "  </thead>\n",
       "  <tbody>\n",
       "    <tr>\n",
       "      <th>0</th>\n",
       "      <td>2010</td>\n",
       "      <td>Actor -- Leading Role</td>\n",
       "      <td>Javier Bardem</td>\n",
       "      <td>Biutiful {'Uxbal'}</td>\n",
       "      <td>0</td>\n",
       "      <td>NaN</td>\n",
       "      <td>NaN</td>\n",
       "      <td>NaN</td>\n",
       "      <td>NaN</td>\n",
       "      <td>NaN</td>\n",
       "      <td>NaN</td>\n",
       "      <td>0</td>\n",
       "    </tr>\n",
       "    <tr>\n",
       "      <th>1</th>\n",
       "      <td>2010</td>\n",
       "      <td>Actor -- Leading Role</td>\n",
       "      <td>Jeff Bridges</td>\n",
       "      <td>True Grit {'Rooster Cogburn'}</td>\n",
       "      <td>0</td>\n",
       "      <td>NaN</td>\n",
       "      <td>NaN</td>\n",
       "      <td>NaN</td>\n",
       "      <td>NaN</td>\n",
       "      <td>NaN</td>\n",
       "      <td>NaN</td>\n",
       "      <td>0</td>\n",
       "    </tr>\n",
       "    <tr>\n",
       "      <th>2</th>\n",
       "      <td>2010</td>\n",
       "      <td>Actor -- Leading Role</td>\n",
       "      <td>Jesse Eisenberg</td>\n",
       "      <td>The Social Network {'Mark Zuckerberg'}</td>\n",
       "      <td>0</td>\n",
       "      <td>NaN</td>\n",
       "      <td>NaN</td>\n",
       "      <td>NaN</td>\n",
       "      <td>NaN</td>\n",
       "      <td>NaN</td>\n",
       "      <td>NaN</td>\n",
       "      <td>0</td>\n",
       "    </tr>\n",
       "    <tr>\n",
       "      <th>3</th>\n",
       "      <td>2010</td>\n",
       "      <td>Actor -- Leading Role</td>\n",
       "      <td>Colin Firth</td>\n",
       "      <td>The King's Speech {'King George VI'}</td>\n",
       "      <td>1</td>\n",
       "      <td>NaN</td>\n",
       "      <td>NaN</td>\n",
       "      <td>NaN</td>\n",
       "      <td>NaN</td>\n",
       "      <td>NaN</td>\n",
       "      <td>NaN</td>\n",
       "      <td>1</td>\n",
       "    </tr>\n",
       "    <tr>\n",
       "      <th>4</th>\n",
       "      <td>2010</td>\n",
       "      <td>Actor -- Leading Role</td>\n",
       "      <td>James Franco</td>\n",
       "      <td>127 Hours {'Aron Ralston'}</td>\n",
       "      <td>0</td>\n",
       "      <td>NaN</td>\n",
       "      <td>NaN</td>\n",
       "      <td>NaN</td>\n",
       "      <td>NaN</td>\n",
       "      <td>NaN</td>\n",
       "      <td>NaN</td>\n",
       "      <td>0</td>\n",
       "    </tr>\n",
       "  </tbody>\n",
       "</table>\n",
       "</div>"
      ],
      "text/plain": [
       "   Year               Category          Nominee  \\\n",
       "0  2010  Actor -- Leading Role    Javier Bardem   \n",
       "1  2010  Actor -- Leading Role     Jeff Bridges   \n",
       "2  2010  Actor -- Leading Role  Jesse Eisenberg   \n",
       "3  2010  Actor -- Leading Role      Colin Firth   \n",
       "4  2010  Actor -- Leading Role     James Franco   \n",
       "\n",
       "                          Additional Info  Won? Unnamed: 5 Unnamed: 6  \\\n",
       "0                      Biutiful {'Uxbal'}     0        NaN        NaN   \n",
       "1           True Grit {'Rooster Cogburn'}     0        NaN        NaN   \n",
       "2  The Social Network {'Mark Zuckerberg'}     0        NaN        NaN   \n",
       "3    The King's Speech {'King George VI'}     1        NaN        NaN   \n",
       "4              127 Hours {'Aron Ralston'}     0        NaN        NaN   \n",
       "\n",
       "  Unnamed: 7 Unnamed: 8 Unnamed: 9 Unnamed: 10  Won  \n",
       "0        NaN        NaN        NaN         NaN    0  \n",
       "1        NaN        NaN        NaN         NaN    0  \n",
       "2        NaN        NaN        NaN         NaN    0  \n",
       "3        NaN        NaN        NaN         NaN    1  \n",
       "4        NaN        NaN        NaN         NaN    0  "
      ]
     },
     "execution_count": 37,
     "metadata": {},
     "output_type": "execute_result"
    }
   ],
   "source": [
    "nominations.head()"
   ]
  },
  {
   "cell_type": "code",
   "execution_count": 39,
   "metadata": {},
   "outputs": [
    {
     "data": {
      "text/plain": [
       "['Won?',\n",
       " 'Unnamed: 5',\n",
       " 'Unnamed: 6',\n",
       " 'Unnamed: 7',\n",
       " 'Unnamed: 8',\n",
       " 'Unnamed: 9',\n",
       " 'Unnamed: 10']"
      ]
     },
     "execution_count": 39,
     "metadata": {},
     "output_type": "execute_result"
    }
   ],
   "source": [
    "unnamed_cols"
   ]
  },
  {
   "cell_type": "code",
   "execution_count": 43,
   "metadata": {},
   "outputs": [
    {
     "data": {
      "text/plain": [
       "(200, 5)"
      ]
     },
     "execution_count": 43,
     "metadata": {},
     "output_type": "execute_result"
    }
   ],
   "source": [
    "final_nominations = nominations.drop(unnamed_cols, axis = 1)\n",
    "final_nominations.shape\n"
   ]
  },
  {
   "cell_type": "code",
   "execution_count": 46,
   "metadata": {},
   "outputs": [
    {
     "name": "stdout",
     "output_type": "stream",
     "text": [
      "0                                        Biutiful {'Uxbal\n",
      "1                             True Grit {'Rooster Cogburn\n",
      "2                    The Social Network {'Mark Zuckerberg\n",
      "3                      The King's Speech {'King George VI\n",
      "4                                127 Hours {'Aron Ralston\n",
      "5                              The Fighter {'Dicky Eklund\n",
      "6                                Winter's Bone {'Teardrop\n",
      "7                               The Town {'James Coughlin\n",
      "8                           The Kids Are All Right {'Paul\n",
      "9                        The King's Speech {'Lionel Logue\n",
      "10                           The Kids Are All Right {'Nic\n",
      "11                                    Rabbit Hole {'Becca\n",
      "12                                    Winter's Bone {'Ree\n",
      "13                Black Swan {'Nina Sayers/The Swan Queen\n",
      "14                                 Blue Valentine {'Cindy\n",
      "15                         The Fighter {'Charlene Fleming\n",
      "16                    The King's Speech {'Queen Elizabeth\n",
      "17                               The Fighter {'Alice Ward\n",
      "18                                True Grit {'Mattie Ross\n",
      "19                   Animal Kingdom {'Janine 'Smurf' Cody\n",
      "135                               Crazy Heart {'Bad Blake\n",
      "136                          Up in the Air {'Ryan Bingham\n",
      "137                                 A Single Man {'George\n",
      "138                             Invictus {'Nelson Mandela\n",
      "139        The Hurt Locker {'Staff Sergeant William James\n",
      "140                           Invictus {'Francois Pienaar\n",
      "141                    The Messenger {'Captain Tony Stone\n",
      "142                            The Last Station {'Tolstoy\n",
      "143                      The Lovely Bones {'George Harvey\n",
      "144                Inglourious Basterds {'Col. Hans Landa\n",
      "                              ...                        \n",
      "1040                                  Frida {'Frida Kahlo\n",
      "1041                           The Hours {'Virginia Woolf\n",
      "1042                           Unfaithful {'Connie Sumner\n",
      "1043                     Far from Heaven {'Cathy Whitaker\n",
      "1044                                 Chicago {'Roxie Hart\n",
      "1045                      About Schmidt {'Roberta Hertzel\n",
      "1046                              The Hours {'Laura Brown\n",
      "1047                         Chicago {'Matron Mama Morton\n",
      "1048                            Adaptation {'Susan Orlean\n",
      "1049                                Chicago {'Velma Kelly\n",
      "1157                         A Beautiful Mind {'John Nash\n",
      "1158                                I Am Sam {'Sam Dawson\n",
      "1159                                   Ali {'Muhammad Ali\n",
      "1160                                Training Day {'Alonzo\n",
      "1161                         In the Bedroom {'Matt Fowler\n",
      "1162                                   Iris {'John Bayley\n",
      "1163                                  Training Day {'Jake\n",
      "1164                               Sexy Beast {'Don Logan\n",
      "1165    The Lord of the Rings: The Fellowship of the R...\n",
      "1166                                  Ali {'Howard Cosell\n",
      "1167                    Monster's Ball {'Leticia Musgrove\n",
      "1168                                  Iris {'Iris Murdoch\n",
      "1169                                Moulin Rouge {'Satine\n",
      "1170                         In the Bedroom {'Ruth Fowler\n",
      "1171                Bridget Jones's Diary {'Bridget Jones\n",
      "1172                       A Beautiful Mind {'Alicia Nash\n",
      "1173                           Gosford Park {'Mrs. Wilson\n",
      "1174       Gosford Park {'Constance, Countess of Trentham\n",
      "1175                      In the Bedroom {'Natalie Strout\n",
      "1176                            Iris {'Young Iris Murdoch\n",
      "Name: Additional Info, Length: 200, dtype: object\n"
     ]
    }
   ],
   "source": [
    "addinfo1 = final_nominations[\"Additional Info\"].str.rstrip(\"'}\")\n",
    "print(addinfo1)"
   ]
  },
  {
   "cell_type": "code",
   "execution_count": 52,
   "metadata": {},
   "outputs": [
    {
     "name": "stdout",
     "output_type": "stream",
     "text": [
      "   Year                  Category          Nominee  \\\n",
      "0  2010     Actor -- Leading Role    Javier Bardem   \n",
      "1  2010     Actor -- Leading Role     Jeff Bridges   \n",
      "2  2010     Actor -- Leading Role  Jesse Eisenberg   \n",
      "3  2010     Actor -- Leading Role      Colin Firth   \n",
      "4  2010     Actor -- Leading Role     James Franco   \n",
      "5  2010  Actor -- Supporting Role   Christian Bale   \n",
      "6  2010  Actor -- Supporting Role      John Hawkes   \n",
      "7  2010  Actor -- Supporting Role    Jeremy Renner   \n",
      "8  2010  Actor -- Supporting Role     Mark Ruffalo   \n",
      "9  2010  Actor -- Supporting Role    Geoffrey Rush   \n",
      "\n",
      "                          Additional Info  Won                   Movie  \\\n",
      "0                      Biutiful {'Uxbal'}    0                Biutiful   \n",
      "1           True Grit {'Rooster Cogburn'}    0               True Grit   \n",
      "2  The Social Network {'Mark Zuckerberg'}    0      The Social Network   \n",
      "3    The King's Speech {'King George VI'}    1       The King's Speech   \n",
      "4              127 Hours {'Aron Ralston'}    0               127 Hours   \n",
      "5            The Fighter {'Dicky Eklund'}    1             The Fighter   \n",
      "6              Winter's Bone {'Teardrop'}    0           Winter's Bone   \n",
      "7             The Town {'James Coughlin'}    0                The Town   \n",
      "8         The Kids Are All Right {'Paul'}    0  The Kids Are All Right   \n",
      "9      The King's Speech {'Lionel Logue'}    0       The King's Speech   \n",
      "\n",
      "         Character  \n",
      "0            Uxbal  \n",
      "1  Rooster Cogburn  \n",
      "2  Mark Zuckerberg  \n",
      "3   King George VI  \n",
      "4     Aron Ralston  \n",
      "5     Dicky Eklund  \n",
      "6         Teardrop  \n",
      "7   James Coughlin  \n",
      "8             Paul  \n",
      "9     Lionel Logue  \n"
     ]
    }
   ],
   "source": [
    "movie = []\n",
    "characters = []\n",
    "for item in addinfo1:\n",
    "    result = item.split(\" {'\")\n",
    "    movie.append(result[0])\n",
    "    characters.append(result[1])\n",
    "final_nominations[\"Movie\"] = movie\n",
    "final_nominations[\"Character\"] = characters\n",
    "print(final_nominations.head(10))"
   ]
  },
  {
   "cell_type": "code",
   "execution_count": 53,
   "metadata": {
    "collapsed": true
   },
   "outputs": [],
   "source": [
    "final_nominations = final_nominations.drop(\"Additional Info\", axis = 1)"
   ]
  },
  {
   "cell_type": "code",
   "execution_count": 54,
   "metadata": {},
   "outputs": [
    {
     "data": {
      "text/html": [
       "<div>\n",
       "<style>\n",
       "    .dataframe thead tr:only-child th {\n",
       "        text-align: right;\n",
       "    }\n",
       "\n",
       "    .dataframe thead th {\n",
       "        text-align: left;\n",
       "    }\n",
       "\n",
       "    .dataframe tbody tr th {\n",
       "        vertical-align: top;\n",
       "    }\n",
       "</style>\n",
       "<table border=\"1\" class=\"dataframe\">\n",
       "  <thead>\n",
       "    <tr style=\"text-align: right;\">\n",
       "      <th></th>\n",
       "      <th>Year</th>\n",
       "      <th>Category</th>\n",
       "      <th>Nominee</th>\n",
       "      <th>Won</th>\n",
       "      <th>Movie</th>\n",
       "      <th>Character</th>\n",
       "    </tr>\n",
       "  </thead>\n",
       "  <tbody>\n",
       "    <tr>\n",
       "      <th>0</th>\n",
       "      <td>2010</td>\n",
       "      <td>Actor -- Leading Role</td>\n",
       "      <td>Javier Bardem</td>\n",
       "      <td>0</td>\n",
       "      <td>Biutiful</td>\n",
       "      <td>Uxbal</td>\n",
       "    </tr>\n",
       "    <tr>\n",
       "      <th>1</th>\n",
       "      <td>2010</td>\n",
       "      <td>Actor -- Leading Role</td>\n",
       "      <td>Jeff Bridges</td>\n",
       "      <td>0</td>\n",
       "      <td>True Grit</td>\n",
       "      <td>Rooster Cogburn</td>\n",
       "    </tr>\n",
       "    <tr>\n",
       "      <th>2</th>\n",
       "      <td>2010</td>\n",
       "      <td>Actor -- Leading Role</td>\n",
       "      <td>Jesse Eisenberg</td>\n",
       "      <td>0</td>\n",
       "      <td>The Social Network</td>\n",
       "      <td>Mark Zuckerberg</td>\n",
       "    </tr>\n",
       "    <tr>\n",
       "      <th>3</th>\n",
       "      <td>2010</td>\n",
       "      <td>Actor -- Leading Role</td>\n",
       "      <td>Colin Firth</td>\n",
       "      <td>1</td>\n",
       "      <td>The King's Speech</td>\n",
       "      <td>King George VI</td>\n",
       "    </tr>\n",
       "    <tr>\n",
       "      <th>4</th>\n",
       "      <td>2010</td>\n",
       "      <td>Actor -- Leading Role</td>\n",
       "      <td>James Franco</td>\n",
       "      <td>0</td>\n",
       "      <td>127 Hours</td>\n",
       "      <td>Aron Ralston</td>\n",
       "    </tr>\n",
       "  </tbody>\n",
       "</table>\n",
       "</div>"
      ],
      "text/plain": [
       "   Year               Category          Nominee  Won               Movie  \\\n",
       "0  2010  Actor -- Leading Role    Javier Bardem    0            Biutiful   \n",
       "1  2010  Actor -- Leading Role     Jeff Bridges    0           True Grit   \n",
       "2  2010  Actor -- Leading Role  Jesse Eisenberg    0  The Social Network   \n",
       "3  2010  Actor -- Leading Role      Colin Firth    1   The King's Speech   \n",
       "4  2010  Actor -- Leading Role     James Franco    0           127 Hours   \n",
       "\n",
       "         Character  \n",
       "0            Uxbal  \n",
       "1  Rooster Cogburn  \n",
       "2  Mark Zuckerberg  \n",
       "3   King George VI  \n",
       "4     Aron Ralston  "
      ]
     },
     "execution_count": 54,
     "metadata": {},
     "output_type": "execute_result"
    }
   ],
   "source": [
    "final_nominations.head()"
   ]
  },
  {
   "cell_type": "code",
   "execution_count": null,
   "metadata": {
    "collapsed": true
   },
   "outputs": [],
   "source": [
    "#automatically setup new database and pass in data with pandas.to_sql method\n",
    "conn = sqlite3.connect(\"nominations.db\")\n",
    "final_nominations.to_sql(\"nominations\", conn, index = False)"
   ]
  },
  {
   "cell_type": "code",
   "execution_count": 68,
   "metadata": {
    "collapsed": true
   },
   "outputs": [],
   "source": [
    "schema = conn.execute(\"pragma table_info(nominations)\").fetchall()"
   ]
  },
  {
   "cell_type": "code",
   "execution_count": 69,
   "metadata": {
    "collapsed": true
   },
   "outputs": [],
   "source": [
    "conn = sqlite3.connect(\"nominations.db\")\n",
    "first_ten = conn.execute(\"select * from nominations limit 10\").fetchall()"
   ]
  },
  {
   "cell_type": "code",
   "execution_count": 70,
   "metadata": {},
   "outputs": [
    {
     "name": "stdout",
     "output_type": "stream",
     "text": [
      "(0, 'Year', 'INTEGER', 0, None, 0)\n",
      "(1, 'Category', 'TEXT', 0, None, 0)\n",
      "(2, 'Nominee', 'TEXT', 0, None, 0)\n",
      "(3, 'Won', 'INTEGER', 0, None, 0)\n",
      "(4, 'Movie', 'TEXT', 0, None, 0)\n",
      "(5, 'Character', 'TEXT', 0, None, 0)\n"
     ]
    }
   ],
   "source": [
    "for item in schema:\n",
    "    print(item)"
   ]
  },
  {
   "cell_type": "code",
   "execution_count": 71,
   "metadata": {},
   "outputs": [
    {
     "name": "stdout",
     "output_type": "stream",
     "text": [
      "(2010, 'Actor -- Leading Role', 'Javier Bardem', 0, 'Biutiful', 'Uxbal')\n",
      "(2010, 'Actor -- Leading Role', 'Jeff Bridges', 0, 'True Grit', 'Rooster Cogburn')\n",
      "(2010, 'Actor -- Leading Role', 'Jesse Eisenberg', 0, 'The Social Network', 'Mark Zuckerberg')\n",
      "(2010, 'Actor -- Leading Role', 'Colin Firth', 1, \"The King's Speech\", 'King George VI')\n",
      "(2010, 'Actor -- Leading Role', 'James Franco', 0, '127 Hours', 'Aron Ralston')\n",
      "(2010, 'Actor -- Supporting Role', 'Christian Bale', 1, 'The Fighter', 'Dicky Eklund')\n",
      "(2010, 'Actor -- Supporting Role', 'John Hawkes', 0, \"Winter's Bone\", 'Teardrop')\n",
      "(2010, 'Actor -- Supporting Role', 'Jeremy Renner', 0, 'The Town', 'James Coughlin')\n",
      "(2010, 'Actor -- Supporting Role', 'Mark Ruffalo', 0, 'The Kids Are All Right', 'Paul')\n",
      "(2010, 'Actor -- Supporting Role', 'Geoffrey Rush', 0, \"The King's Speech\", 'Lionel Logue')\n"
     ]
    }
   ],
   "source": [
    "for item in first_ten:\n",
    "    print(item)"
   ]
  },
  {
   "cell_type": "code",
   "execution_count": 72,
   "metadata": {
    "collapsed": true
   },
   "outputs": [],
   "source": [
    "years_hosts = [(2010, \"Steve Martin\"),\n",
    "               (2009, \"Hugh Jackman\"),\n",
    "               (2008, \"Jon Stewart\"),\n",
    "               (2007, \"Ellen DeGeneres\"),\n",
    "               (2006, \"Jon Stewart\"),\n",
    "               (2005, \"Chris Rock\"),\n",
    "               (2004, \"Billy Crystal\"),\n",
    "               (2003, \"Steve Martin\"),\n",
    "               (2002, \"Whoopi Goldberg\"),\n",
    "               (2001, \"Steve Martin\"),\n",
    "               (2000, \"Billy Crystal\"),\n",
    "            ]"
   ]
  },
  {
   "cell_type": "code",
   "execution_count": null,
   "metadata": {
    "collapsed": true
   },
   "outputs": [],
   "source": [
    "conn.execute('''\n",
    "create table ceremonies(\n",
    "id integer PRIMARY KEY,\n",
    "Year integer,\n",
    "Host text)''').fetchall()"
   ]
  },
  {
   "cell_type": "code",
   "execution_count": 76,
   "metadata": {},
   "outputs": [
    {
     "data": {
      "text/plain": [
       "<sqlite3.Cursor at 0x1127abe30>"
      ]
     },
     "execution_count": 76,
     "metadata": {},
     "output_type": "execute_result"
    }
   ],
   "source": [
    "insert_query = \"INSERT  INTO ceremonies (Year, Host) VALUES (?, ?);\"\n",
    "conn.executemany(insert_query, years_hosts)"
   ]
  },
  {
   "cell_type": "code",
   "execution_count": 77,
   "metadata": {},
   "outputs": [
    {
     "data": {
      "text/plain": [
       "[(1, 2010, 'Steve Martin'),\n",
       " (2, 2009, 'Hugh Jackman'),\n",
       " (3, 2008, 'Jon Stewart'),\n",
       " (4, 2007, 'Ellen DeGeneres'),\n",
       " (5, 2006, 'Jon Stewart'),\n",
       " (6, 2005, 'Chris Rock'),\n",
       " (7, 2004, 'Billy Crystal'),\n",
       " (8, 2003, 'Steve Martin'),\n",
       " (9, 2002, 'Whoopi Goldberg'),\n",
       " (10, 2001, 'Steve Martin')]"
      ]
     },
     "execution_count": 77,
     "metadata": {},
     "output_type": "execute_result"
    }
   ],
   "source": [
    "conn.execute(\"select * from ceremonies limit 10\").fetchall()"
   ]
  },
  {
   "cell_type": "code",
   "execution_count": 78,
   "metadata": {},
   "outputs": [
    {
     "data": {
      "text/plain": [
       "[(0, 'id', 'integer', 0, None, 1),\n",
       " (1, 'Year', 'integer', 0, None, 0),\n",
       " (2, 'Host', 'text', 0, None, 0)]"
      ]
     },
     "execution_count": 78,
     "metadata": {},
     "output_type": "execute_result"
    }
   ],
   "source": [
    "conn.execute(\"pragma table_info(ceremonies)\").fetchall()"
   ]
  },
  {
   "cell_type": "code",
   "execution_count": 79,
   "metadata": {},
   "outputs": [
    {
     "data": {
      "text/plain": [
       "<sqlite3.Cursor at 0x1127abc70>"
      ]
     },
     "execution_count": 79,
     "metadata": {},
     "output_type": "execute_result"
    }
   ],
   "source": [
    "#turn on foreign key constraints\n",
    "conn.execute(\"PRAGMA foreign_keys = ON;\")"
   ]
  },
  {
   "cell_type": "code",
   "execution_count": 82,
   "metadata": {},
   "outputs": [
    {
     "name": "stdout",
     "output_type": "stream",
     "text": [
      "[('Actor -- Leading Role', 'Javier Bardem', 'Biutiful', 'Uxbal', 0, 1), ('Actor -- Leading Role', 'Jeff Bridges', 'True Grit', 'Rooster Cogburn', 0, 1), ('Actor -- Leading Role', 'Jesse Eisenberg', 'The Social Network', 'Mark Zuckerberg', 0, 1), ('Actor -- Leading Role', 'Colin Firth', \"The King's Speech\", 'King George VI', 1, 1), ('Actor -- Leading Role', 'James Franco', '127 Hours', 'Aron Ralston', 0, 1), ('Actor -- Supporting Role', 'Christian Bale', 'The Fighter', 'Dicky Eklund', 1, 1), ('Actor -- Supporting Role', 'John Hawkes', \"Winter's Bone\", 'Teardrop', 0, 1), ('Actor -- Supporting Role', 'Jeremy Renner', 'The Town', 'James Coughlin', 0, 1), ('Actor -- Supporting Role', 'Mark Ruffalo', 'The Kids Are All Right', 'Paul', 0, 1), ('Actor -- Supporting Role', 'Geoffrey Rush', \"The King's Speech\", 'Lionel Logue', 0, 1), ('Actress -- Leading Role', 'Annette Bening', 'The Kids Are All Right', 'Nic', 0, 1), ('Actress -- Leading Role', 'Nicole Kidman', 'Rabbit Hole', 'Becca', 0, 1), ('Actress -- Leading Role', 'Jennifer Lawrence', \"Winter's Bone\", 'Ree', 0, 1), ('Actress -- Leading Role', 'Natalie Portman', 'Black Swan', 'Nina Sayers/The Swan Queen', 1, 1), ('Actress -- Leading Role', 'Michelle Williams', 'Blue Valentine', 'Cindy', 0, 1), ('Actress -- Supporting Role', 'Amy Adams', 'The Fighter', 'Charlene Fleming', 0, 1), ('Actress -- Supporting Role', 'Helena Bonham Carter', \"The King's Speech\", 'Queen Elizabeth', 0, 1), ('Actress -- Supporting Role', 'Melissa Leo', 'The Fighter', 'Alice Ward', 1, 1), ('Actress -- Supporting Role', 'Hailee Steinfeld', 'True Grit', 'Mattie Ross', 0, 1), ('Actress -- Supporting Role', 'Jacki Weaver', 'Animal Kingdom', \"Janine 'Smurf' Cody\", 0, 1), ('Actor -- Leading Role', 'Jeff Bridges', 'Crazy Heart', 'Bad Blake', 1, 2), ('Actor -- Leading Role', 'George Clooney', 'Up in the Air', 'Ryan Bingham', 0, 2), ('Actor -- Leading Role', 'Colin Firth', 'A Single Man', 'George', 0, 2), ('Actor -- Leading Role', 'Morgan Freeman', 'Invictus', 'Nelson Mandela', 0, 2), ('Actor -- Leading Role', 'Jeremy Renner', 'The Hurt Locker', 'Staff Sergeant William James', 0, 2), ('Actor -- Supporting Role', 'Matt Damon', 'Invictus', 'Francois Pienaar', 0, 2), ('Actor -- Supporting Role', 'Woody Harrelson', 'The Messenger', 'Captain Tony Stone', 0, 2), ('Actor -- Supporting Role', 'Christopher Plummer', 'The Last Station', 'Tolstoy', 0, 2), ('Actor -- Supporting Role', 'Stanley Tucci', 'The Lovely Bones', 'George Harvey', 0, 2), ('Actor -- Supporting Role', 'Christoph Waltz', 'Inglourious Basterds', 'Col. Hans Landa', 1, 2), ('Actress -- Leading Role', 'Sandra Bullock', 'The Blind Side', 'Leigh Anne Tuohy', 1, 2), ('Actress -- Leading Role', 'Helen Mirren', 'The Last Station', 'Sofya', 0, 2), ('Actress -- Leading Role', 'Carey Mulligan', 'An Education', 'Jenny', 0, 2), ('Actress -- Leading Role', 'Gabourey Sidibe', \"Precious: Based on the Novel 'Push' by Sapphire\", 'Precious', 0, 2), ('Actress -- Leading Role', 'Meryl Streep', 'Julie & Julia', 'Julia Child', 0, 2), ('Actress -- Supporting Role', 'Penélope Cruz', 'Nine', 'Carla', 0, 2), ('Actress -- Supporting Role', 'Vera Farmiga', 'Up in the Air', 'Alex Goran', 0, 2), ('Actress -- Supporting Role', 'Maggie Gyllenhaal', 'Crazy Heart', 'Jean Craddock', 0, 2), ('Actress -- Supporting Role', 'Anna Kendrick', 'Up in the Air', 'Natalie Keener', 0, 2), ('Actress -- Supporting Role', \"Mo'Nique\", \"Precious: Based on the Novel 'Push' by Sapphire\", 'Mary', 1, 2), ('Actor -- Leading Role', 'Richard Jenkins', 'The Visitor', 'Walter', 0, 3), ('Actor -- Leading Role', 'Frank Langella', 'Frost/Nixon', 'Richard Nixon', 0, 3), ('Actor -- Leading Role', 'Sean Penn', 'Milk', 'Harvey Milk', 1, 3), ('Actor -- Leading Role', 'Brad Pitt', 'The Curious Case of Benjamin Button', 'Benjamin Button', 0, 3), ('Actor -- Leading Role', 'Mickey Rourke', 'The Wrestler', 'Randy', 0, 3), ('Actor -- Supporting Role', 'Josh Brolin', 'Milk', 'Dan White', 0, 3), ('Actor -- Supporting Role', 'Robert Downey Jr.', 'Tropic Thunder', 'Kirk Lazarus', 0, 3), ('Actor -- Supporting Role', 'Philip Seymour Hoffman', 'Doubt', 'Father Brendan Flynn', 0, 3), ('Actor -- Supporting Role', 'Heath Ledger', 'The Dark Knight', 'Joker', 1, 3), ('Actor -- Supporting Role', 'Michael Shannon', 'Revolutionary Road', 'John Givings', 0, 3), ('Actress -- Leading Role', 'Anne Hathaway', 'Rachel Getting Married', 'Kym', 0, 3), ('Actress -- Leading Role', 'Angelina Jolie', 'Changeling', 'Christine Collins', 0, 3), ('Actress -- Leading Role', 'Melissa Leo', 'Frozen River', 'Ray Eddy', 0, 3), ('Actress -- Leading Role', 'Meryl Streep', 'Doubt', 'Sister Aloysius Beauvier', 0, 3), ('Actress -- Leading Role', 'Kate Winslet', 'The Reader', 'Hanna Schmitz', 1, 3), ('Actress -- Supporting Role', 'Amy Adams', 'Doubt', 'Sister James', 0, 3), ('Actress -- Supporting Role', 'Penélope Cruz', 'Vicky Cristina Barcelona', 'Maria Elena', 1, 3), ('Actress -- Supporting Role', 'Viola Davis', 'Doubt', 'Mrs. Miller', 0, 3), ('Actress -- Supporting Role', 'Taraji P. Henson', 'The Curious Case of Benjamin Button', 'Queenie', 0, 3), ('Actress -- Supporting Role', 'Marisa Tomei', 'The Wrestler', 'Cassidy', 0, 3), ('Actor -- Leading Role', 'George Clooney', 'Michael Clayton', 'Michael Clayton', 0, 4), ('Actor -- Leading Role', 'Daniel Day-Lewis', 'There Will Be Blood', 'Daniel Plainview', 1, 4), ('Actor -- Leading Role', 'Johnny Depp', 'Sweeney Todd The Demon Barber of Fleet Street', 'Sweeney Todd', 0, 4), ('Actor -- Leading Role', 'Tommy Lee Jones', 'In the Valley of Elah', 'Hank Deerfield', 0, 4), ('Actor -- Leading Role', 'Viggo Mortensen', 'Eastern Promises', 'Nikolai', 0, 4), ('Actor -- Supporting Role', 'Casey Affleck', 'The Assassination of Jesse James by the Coward Robert Ford', 'Robert Ford', 0, 4), ('Actor -- Supporting Role', 'Javier Bardem', 'No Country for Old Men', 'Anton Chigurh', 1, 4), ('Actor -- Supporting Role', 'Philip Seymour Hoffman', \"Charlie Wilson's War\", 'Gust Avrakotos', 0, 4), ('Actor -- Supporting Role', 'Hal Holbrook', 'Into the Wild', 'Ron Franz', 0, 4), ('Actor -- Supporting Role', 'Tom Wilkinson', 'Michael Clayton', 'Arthur Edens', 0, 4), ('Actress -- Leading Role', 'Cate Blanchett', 'Elizabeth: The Golden Age', 'Queen Elizabeth I', 0, 4), ('Actress -- Leading Role', 'Julie Christie', 'Away from Her', 'Fiona', 0, 4), ('Actress -- Leading Role', 'Marion Cotillard', 'La Vie en Rose', 'Edith Piaf', 1, 4), ('Actress -- Leading Role', 'Laura Linney', 'The Savages', 'Wendy Savage', 0, 4), ('Actress -- Leading Role', 'Ellen Page', 'Juno', 'Juno MacGuff', 0, 4), ('Actress -- Supporting Role', 'Cate Blanchett', \"I'm Not There\", 'Jude', 0, 4), ('Actress -- Supporting Role', 'Ruby Dee', 'American Gangster', 'Mama Lucas', 0, 4), ('Actress -- Supporting Role', 'Saoirse Ronan', 'Atonement', 'Briony Tallis, aged 13', 0, 4), ('Actress -- Supporting Role', 'Amy Ryan', 'Gone Baby Gone', 'Helene McCready', 0, 4), ('Actress -- Supporting Role', 'Tilda Swinton', 'Michael Clayton', 'Karen Crowder', 1, 4), ('Actor -- Leading Role', 'Leonardo DiCaprio', 'Blood Diamond', 'Danny Archer', 0, 5), ('Actor -- Leading Role', 'Ryan Gosling', 'Half Nelson', 'Dan Dunne', 0, 5), ('Actor -- Leading Role', \"Peter O'Toole\", 'Venus', 'Maurice', 0, 5), ('Actor -- Leading Role', 'Will Smith', 'The Pursuit of Happyness', 'Chris Gardner', 0, 5), ('Actor -- Leading Role', 'Forest Whitaker', 'The Last King of Scotland', 'Idi Amin', 1, 5), ('Actor -- Supporting Role', 'Alan Arkin', 'Little Miss Sunshine', 'Grandpa', 1, 5), ('Actor -- Supporting Role', 'Jackie Earle Haley', 'Little Children', 'Ronnie J. McGorvey', 0, 5), ('Actor -- Supporting Role', 'Djimon Hounsou', 'Blood Diamond', 'Solomon Vandy', 0, 5), ('Actor -- Supporting Role', 'Eddie Murphy', 'Dreamgirls', \"James 'Thunder' Early\", 0, 5), ('Actor -- Supporting Role', 'Mark Wahlberg', 'The Departed', 'Dignam', 0, 5), ('Actress -- Leading Role', 'Penélope Cruz', 'Volver', 'Raimunda', 0, 5), ('Actress -- Leading Role', 'Judi Dench', 'Notes on a Scandal', 'Barbara Covett', 0, 5), ('Actress -- Leading Role', 'Helen Mirren', 'The Queen', 'The Queen', 1, 5), ('Actress -- Leading Role', 'Meryl Streep', 'The Devil Wears Prada', 'Miranda Priestly', 0, 5), ('Actress -- Leading Role', 'Kate Winslet', 'Little Children', 'Sarah Pierce', 0, 5), ('Actress -- Supporting Role', 'Adriana Barraza', 'Babel', 'Amelia', 0, 5), ('Actress -- Supporting Role', 'Cate Blanchett', 'Notes on a Scandal', 'Sheba Hart', 0, 5), ('Actress -- Supporting Role', 'Abigail Breslin', 'Little Miss Sunshine', 'Olive', 0, 5), ('Actress -- Supporting Role', 'Jennifer Hudson', 'Dreamgirls', 'Effie White', 1, 5), ('Actress -- Supporting Role', 'Rinko Kikuchi', 'Babel', 'Chieko', 0, 5), ('Actor -- Leading Role', 'Philip Seymour Hoffman', 'Capote', 'Truman Capote', 1, 6), ('Actor -- Leading Role', 'Terrence Howard', 'Hustle & Flow', 'DJay', 0, 6), ('Actor -- Leading Role', 'Heath Ledger', 'Brokeback Mountain', 'Ennis Del Mar', 0, 6), ('Actor -- Leading Role', 'Joaquin Phoenix', 'Walk the Line', 'John R. Cash', 0, 6), ('Actor -- Leading Role', 'David Strathairn', 'Good Night, and Good Luck.', 'Edward R. Murrow', 0, 6), ('Actor -- Supporting Role', 'George Clooney', 'Syriana', 'Bob Barnes', 1, 6), ('Actor -- Supporting Role', 'Matt Dillon', 'Crash', 'Officer Ryan', 0, 6), ('Actor -- Supporting Role', 'Paul Giamatti', 'Cinderella Man', 'Joe Gould', 0, 6), ('Actor -- Supporting Role', 'Jake Gyllenhaal', 'Brokeback Mountain', 'Jack Twist', 0, 6), ('Actor -- Supporting Role', 'William Hurt', 'A History of Violence', 'Richie Cusack', 0, 6), ('Actress -- Leading Role', 'Judi Dench', 'Mrs. Henderson Presents', 'Mrs. Laura Henderson', 0, 6), ('Actress -- Leading Role', 'Felicity Huffman', 'Transamerica', 'Bree', 0, 6), ('Actress -- Leading Role', 'Keira Knightley', 'Pride & Prejudice', 'Elizabeth Bennet', 0, 6), ('Actress -- Leading Role', 'Charlize Theron', 'North Country', 'Josey Aimes', 0, 6), ('Actress -- Leading Role', 'Reese Witherspoon', 'Walk the Line', 'June Carter', 1, 6), ('Actress -- Supporting Role', 'Amy Adams', 'Junebug', 'Ashley', 0, 6), ('Actress -- Supporting Role', 'Catherine Keener', 'Capote', 'Nelle Harper Lee', 0, 6), ('Actress -- Supporting Role', 'Frances McDormand', 'North Country', 'Glory', 0, 6), ('Actress -- Supporting Role', 'Rachel Weisz', 'The Constant Gardener', 'Tessa Quayle', 1, 6), ('Actress -- Supporting Role', 'Michelle Williams', 'Brokeback Mountain', 'Alma', 0, 6), ('Actor -- Leading Role', 'Don Cheadle', 'Hotel Rwanda', 'Paul Rusesabagina', 0, 7), ('Actor -- Leading Role', 'Johnny Depp', 'Finding Neverland', 'Sir James Matthew Barrie', 0, 7), ('Actor -- Leading Role', 'Leonardo DiCaprio', 'The Aviator', 'Howard Hughes', 0, 7), ('Actor -- Leading Role', 'Clint Eastwood', 'Million Dollar Baby', 'Frankie Dunn', 0, 7), ('Actor -- Leading Role', 'Jamie Foxx', 'Ray', 'Ray Charles', 1, 7), ('Actor -- Supporting Role', 'Alan Alda', 'The Aviator', 'Senator Ralph Owen Brewster', 0, 7), ('Actor -- Supporting Role', 'Thomas Haden Church', 'Sideways', 'Jack', 0, 7), ('Actor -- Supporting Role', 'Jamie Foxx', 'Collateral', 'Max', 0, 7), ('Actor -- Supporting Role', 'Morgan Freeman', 'Million Dollar Baby', 'Eddie Scrap-Iron Dupris', 1, 7), ('Actor -- Supporting Role', 'Clive Owen', 'Closer', 'Larry', 0, 7), ('Actress -- Leading Role', 'Annette Bening', 'Being Julia', 'Julia Lambert', 0, 7), ('Actress -- Leading Role', 'Catalina Sandino Moreno', 'Maria Full of Grace', 'Maria', 0, 7), ('Actress -- Leading Role', 'Imelda Staunton', 'Vera Drake', 'Vera', 0, 7), ('Actress -- Leading Role', 'Hilary Swank', 'Million Dollar Baby', 'Maggie Fitzgerald', 1, 7), ('Actress -- Leading Role', 'Kate Winslet', 'Eternal Sunshine of the Spotless Mind', 'Clementine Kruczynski', 0, 7), ('Actress -- Supporting Role', 'Cate Blanchett', 'The Aviator', 'Katharine Hepburn', 1, 7), ('Actress -- Supporting Role', 'Laura Linney', 'Kinsey', 'Clara McMillen', 0, 7), ('Actress -- Supporting Role', 'Virginia Madsen', 'Sideways', 'Maya', 0, 7), ('Actress -- Supporting Role', 'Sophie Okonedo', 'Hotel Rwanda', 'Tatiana Rusesabagina', 0, 7), ('Actress -- Supporting Role', 'Natalie Portman', 'Closer', 'Alice', 0, 7), ('Actor -- Leading Role', 'Johnny Depp', 'Pirates of the Caribbean: The Curse of the Black Pearl', 'Jack Sparrow', 0, 8), ('Actor -- Leading Role', 'Ben Kingsley', 'House of Sand and Fog', 'Behrani', 0, 8), ('Actor -- Leading Role', 'Jude Law', 'Cold Mountain', 'Inman', 0, 8), ('Actor -- Leading Role', 'Bill Murray', 'Lost in Translation', 'Bob Harris', 0, 8), ('Actor -- Leading Role', 'Sean Penn', 'Mystic River', 'Jimmy Markum', 1, 8), ('Actor -- Supporting Role', 'Alec Baldwin', 'The Cooler', 'Shelly Kaplow', 0, 8), ('Actor -- Supporting Role', 'Benicio Del Toro', '21 Grams', 'Jack Jordan', 0, 8), ('Actor -- Supporting Role', 'Djimon Hounsou', 'In America', 'Mateo', 0, 8), ('Actor -- Supporting Role', 'Tim Robbins', 'Mystic River', 'Dave Boyle', 1, 8), ('Actor -- Supporting Role', 'Ken Watanabe', 'The Last Samurai', 'Katsumoto', 0, 8), ('Actress -- Leading Role', 'Keisha Castle-Hughes', 'Whale Rider', 'Paikea', 0, 8), ('Actress -- Leading Role', 'Diane Keaton', \"Something's Gotta Give\", 'Erica Barry', 0, 8), ('Actress -- Leading Role', 'Samantha Morton', 'In America', 'Sarah', 0, 8), ('Actress -- Leading Role', 'Charlize Theron', 'Monster', 'Aileen Wuornos', 1, 8), ('Actress -- Leading Role', 'Naomi Watts', '21 Grams', 'Cristina Peck', 0, 8), ('Actress -- Supporting Role', 'Shohreh Aghdashloo', 'House of Sand and Fog', 'Nadi', 0, 8), ('Actress -- Supporting Role', 'Patricia Clarkson', 'Pieces of April', 'Joy Burns', 0, 8), ('Actress -- Supporting Role', 'Marcia Gay Harden', 'Mystic River', 'Celeste Boyle', 0, 8), ('Actress -- Supporting Role', 'Holly Hunter', 'Thirteen', 'Melanie', 0, 8), ('Actress -- Supporting Role', 'Renée Zellweger', 'Cold Mountain', 'Ruby Thewes', 1, 8), ('Actor -- Leading Role', 'Adrien Brody', 'The Pianist', 'Wladyslaw Szpilman', 1, 9), ('Actor -- Leading Role', 'Nicolas Cage', 'Adaptation', 'Charlie Kaufman & Donald Kaufman', 0, 9), ('Actor -- Leading Role', 'Michael Caine', 'The Quiet American', 'Thomas Fowler', 0, 9), ('Actor -- Leading Role', 'Daniel Day-Lewis', 'Gangs of New York', \"Bill 'The Butcher' Cutting\", 0, 9), ('Actor -- Leading Role', 'Jack Nicholson', 'About Schmidt', 'Warren Schmidt', 0, 9), ('Actor -- Supporting Role', 'Chris Cooper', 'Adaptation', 'John Laroche', 1, 9), ('Actor -- Supporting Role', 'Ed Harris', 'The Hours', 'Richard Brown', 0, 9), ('Actor -- Supporting Role', 'Paul Newman', 'Road to Perdition', 'John Rooney', 0, 9), ('Actor -- Supporting Role', 'John C. Reilly', 'Chicago', 'Amos Hart', 0, 9), ('Actor -- Supporting Role', 'Christopher Walken', 'Catch Me If You Can', 'Frank Abagnale', 0, 9), ('Actress -- Leading Role', 'Salma Hayek', 'Frida', 'Frida Kahlo', 0, 9), ('Actress -- Leading Role', 'Nicole Kidman', 'The Hours', 'Virginia Woolf', 1, 9), ('Actress -- Leading Role', 'Diane Lane', 'Unfaithful', 'Connie Sumner', 0, 9), ('Actress -- Leading Role', 'Julianne Moore', 'Far from Heaven', 'Cathy Whitaker', 0, 9), ('Actress -- Leading Role', 'Renée Zellweger', 'Chicago', 'Roxie Hart', 0, 9), ('Actress -- Supporting Role', 'Kathy Bates', 'About Schmidt', 'Roberta Hertzel', 0, 9), ('Actress -- Supporting Role', 'Julianne Moore', 'The Hours', 'Laura Brown', 0, 9), ('Actress -- Supporting Role', 'Queen Latifah', 'Chicago', 'Matron Mama Morton', 0, 9), ('Actress -- Supporting Role', 'Meryl Streep', 'Adaptation', 'Susan Orlean', 0, 9), ('Actress -- Supporting Role', 'Catherine Zeta-Jones', 'Chicago', 'Velma Kelly', 1, 9), ('Actor -- Leading Role', 'Russell Crowe', 'A Beautiful Mind', 'John Nash', 0, 10), ('Actor -- Leading Role', 'Sean Penn', 'I Am Sam', 'Sam Dawson', 0, 10), ('Actor -- Leading Role', 'Will Smith', 'Ali', 'Muhammad Ali', 0, 10), ('Actor -- Leading Role', 'Denzel Washington', 'Training Day', 'Alonzo', 1, 10), ('Actor -- Leading Role', 'Tom Wilkinson', 'In the Bedroom', 'Matt Fowler', 0, 10), ('Actor -- Supporting Role', 'Jim Broadbent', 'Iris', 'John Bayley', 1, 10), ('Actor -- Supporting Role', 'Ethan Hawke', 'Training Day', 'Jake', 0, 10), ('Actor -- Supporting Role', 'Ben Kingsley', 'Sexy Beast', 'Don Logan', 0, 10), ('Actor -- Supporting Role', 'Ian McKellen', 'The Lord of the Rings: The Fellowship of the Ring', 'Gandalf', 0, 10), ('Actor -- Supporting Role', 'Jon Voight', 'Ali', 'Howard Cosell', 0, 10), ('Actress -- Leading Role', 'Halle Berry', \"Monster's Ball\", 'Leticia Musgrove', 1, 10), ('Actress -- Leading Role', 'Judi Dench', 'Iris', 'Iris Murdoch', 0, 10), ('Actress -- Leading Role', 'Nicole Kidman', 'Moulin Rouge', 'Satine', 0, 10), ('Actress -- Leading Role', 'Sissy Spacek', 'In the Bedroom', 'Ruth Fowler', 0, 10), ('Actress -- Leading Role', 'Renée Zellweger', \"Bridget Jones's Diary\", 'Bridget Jones', 0, 10), ('Actress -- Supporting Role', 'Jennifer Connelly', 'A Beautiful Mind', 'Alicia Nash', 1, 10), ('Actress -- Supporting Role', 'Helen Mirren', 'Gosford Park', 'Mrs. Wilson', 0, 10), ('Actress -- Supporting Role', 'Maggie Smith', 'Gosford Park', 'Constance, Countess of Trentham', 0, 10), ('Actress -- Supporting Role', 'Marisa Tomei', 'In the Bedroom', 'Natalie Strout', 0, 10), ('Actress -- Supporting Role', 'Kate Winslet', 'Iris', 'Young Iris Murdoch', 0, 10)]\n"
     ]
    }
   ],
   "source": [
    "innerjoin = '''\n",
    "SELECT nominations.category, nominations.nominee, nominations.movie, nominations.character, nominations.won, ceremonies.id\n",
    "FROM nominations\n",
    "INNER JOIN ceremonies ON\n",
    "nominations.year == ceremonies.year\n",
    ";'''\n",
    "\n",
    "nomination2 = conn.execute(innerjoin).fetchall()\n",
    "print(nomination2)"
   ]
  },
  {
   "cell_type": "code",
   "execution_count": 84,
   "metadata": {},
   "outputs": [
    {
     "data": {
      "text/plain": [
       "<sqlite3.Cursor at 0x1127cd180>"
      ]
     },
     "execution_count": 84,
     "metadata": {},
     "output_type": "execute_result"
    }
   ],
   "source": [
    "q1 = '''\n",
    "CREATE TABLE nominations2(\n",
    "id integer PRIMARY KEY,\n",
    "category text,\n",
    "nominee text,\n",
    "movie text,\n",
    "character text,\n",
    "won integer,\n",
    "ceremony_id integer,\n",
    "FOREIGN KEY(ceremony_id) REFERENCES ceremonies (id)\n",
    ");'''\n",
    "conn.execute(q1)"
   ]
  },
  {
   "cell_type": "code",
   "execution_count": 86,
   "metadata": {},
   "outputs": [
    {
     "data": {
      "text/plain": [
       "<sqlite3.Cursor at 0x1127abab0>"
      ]
     },
     "execution_count": 86,
     "metadata": {},
     "output_type": "execute_result"
    }
   ],
   "source": [
    "insert_q2 = \"INSERT INTO nominations2 (category, nominee, movie, character, won, ceremony_id) VALUES (?, ?, ?, ?, ?, ?)\"\n",
    "conn.executemany(insert_q2, nomination2)"
   ]
  },
  {
   "cell_type": "code",
   "execution_count": 87,
   "metadata": {},
   "outputs": [
    {
     "data": {
      "text/plain": [
       "[(1, 'Actor -- Leading Role', 'Javier Bardem', 'Biutiful', 'Uxbal', 0, 1),\n",
       " (2,\n",
       "  'Actor -- Leading Role',\n",
       "  'Jeff Bridges',\n",
       "  'True Grit',\n",
       "  'Rooster Cogburn',\n",
       "  0,\n",
       "  1),\n",
       " (3,\n",
       "  'Actor -- Leading Role',\n",
       "  'Jesse Eisenberg',\n",
       "  'The Social Network',\n",
       "  'Mark Zuckerberg',\n",
       "  0,\n",
       "  1),\n",
       " (4,\n",
       "  'Actor -- Leading Role',\n",
       "  'Colin Firth',\n",
       "  \"The King's Speech\",\n",
       "  'King George VI',\n",
       "  1,\n",
       "  1),\n",
       " (5,\n",
       "  'Actor -- Leading Role',\n",
       "  'James Franco',\n",
       "  '127 Hours',\n",
       "  'Aron Ralston',\n",
       "  0,\n",
       "  1)]"
      ]
     },
     "execution_count": 87,
     "metadata": {},
     "output_type": "execute_result"
    }
   ],
   "source": [
    "conn.execute(\"SELECT * FROM nominations2 LIMIT 5\").fetchall()"
   ]
  },
  {
   "cell_type": "code",
   "execution_count": 88,
   "metadata": {},
   "outputs": [
    {
     "data": {
      "text/plain": [
       "<sqlite3.Cursor at 0x1127cd030>"
      ]
     },
     "execution_count": 88,
     "metadata": {},
     "output_type": "execute_result"
    }
   ],
   "source": [
    "q3 = \"DROP TABLE nominations\"\n",
    "conn.execute(q3)"
   ]
  },
  {
   "cell_type": "code",
   "execution_count": 90,
   "metadata": {},
   "outputs": [
    {
     "data": {
      "text/plain": [
       "<sqlite3.Cursor at 0x1127cd570>"
      ]
     },
     "execution_count": 90,
     "metadata": {},
     "output_type": "execute_result"
    }
   ],
   "source": [
    "q4 = \"ALTER TABLE nominations2 RENAME TO nominations\"\n",
    "conn.execute(q4)"
   ]
  },
  {
   "cell_type": "code",
   "execution_count": 91,
   "metadata": {},
   "outputs": [
    {
     "data": {
      "text/plain": [
       "<sqlite3.Cursor at 0x1127cd420>"
      ]
     },
     "execution_count": 91,
     "metadata": {},
     "output_type": "execute_result"
    }
   ],
   "source": [
    "#create table movies\n",
    "create_q1 = '''\n",
    "CREATE TABLE movies (\n",
    "id integer PRIMARY KEY,\n",
    "movie text);\n",
    "'''\n",
    "conn.execute(create_q1)"
   ]
  },
  {
   "cell_type": "code",
   "execution_count": 92,
   "metadata": {},
   "outputs": [
    {
     "data": {
      "text/plain": [
       "<sqlite3.Cursor at 0x1127cd5e0>"
      ]
     },
     "execution_count": 92,
     "metadata": {},
     "output_type": "execute_result"
    }
   ],
   "source": [
    "#create table actors\n",
    "create_q2 = '''\n",
    "CREATE TABLE actors (\n",
    "id integer PRIMARY KEY,\n",
    "actor text);\n",
    "'''\n",
    "conn.execute(create_q2)"
   ]
  },
  {
   "cell_type": "code",
   "execution_count": 94,
   "metadata": {},
   "outputs": [
    {
     "data": {
      "text/plain": [
       "<sqlite3.Cursor at 0x1127cd7a0>"
      ]
     },
     "execution_count": 94,
     "metadata": {},
     "output_type": "execute_result"
    }
   ],
   "source": [
    "#create table movie_actor\n",
    "create_q3 = '''\n",
    "CREATE TABLE movie_actor (\n",
    "id integer PRIMARY KEY,\n",
    "movie_id integer REFERENCES movies(id),\n",
    "actor_id integer REFERENCES actors(id));\n",
    "'''\n",
    "conn.execute(create_q3)"
   ]
  },
  {
   "cell_type": "code",
   "execution_count": 95,
   "metadata": {
    "collapsed": true
   },
   "outputs": [],
   "source": [
    "conn.close()"
   ]
  },
  {
   "cell_type": "code",
   "execution_count": null,
   "metadata": {
    "collapsed": true
   },
   "outputs": [],
   "source": []
  }
 ],
 "metadata": {
  "kernelspec": {
   "display_name": "Python 3",
   "language": "python",
   "name": "python3"
  },
  "language_info": {
   "codemirror_mode": {
    "name": "ipython",
    "version": 3
   },
   "file_extension": ".py",
   "mimetype": "text/x-python",
   "name": "python",
   "nbconvert_exporter": "python",
   "pygments_lexer": "ipython3",
   "version": "3.6.3"
  }
 },
 "nbformat": 4,
 "nbformat_minor": 2
}
