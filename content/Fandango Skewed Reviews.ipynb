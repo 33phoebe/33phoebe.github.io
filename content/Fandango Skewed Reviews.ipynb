{
 "cells": [
  {
   "cell_type": "code",
   "execution_count": 2,
   "metadata": {
    "collapsed": true
   },
   "outputs": [],
   "source": [
    "import pandas as pd\n",
    "import matplotlib.pyplot as plt\n",
    "import numpy as np\n",
    "%matplotlib inline"
   ]
  },
  {
   "cell_type": "code",
   "execution_count": 8,
   "metadata": {},
   "outputs": [
    {
     "data": {
      "text/html": [
       "<div>\n",
       "<style>\n",
       "    .dataframe thead tr:only-child th {\n",
       "        text-align: right;\n",
       "    }\n",
       "\n",
       "    .dataframe thead th {\n",
       "        text-align: left;\n",
       "    }\n",
       "\n",
       "    .dataframe tbody tr th {\n",
       "        vertical-align: top;\n",
       "    }\n",
       "</style>\n",
       "<table border=\"1\" class=\"dataframe\">\n",
       "  <thead>\n",
       "    <tr style=\"text-align: right;\">\n",
       "      <th></th>\n",
       "      <th>FILM</th>\n",
       "      <th>RottenTomatoes</th>\n",
       "      <th>RottenTomatoes_User</th>\n",
       "      <th>Metacritic</th>\n",
       "      <th>Metacritic_User</th>\n",
       "      <th>IMDB</th>\n",
       "      <th>Fandango_Stars</th>\n",
       "      <th>Fandango_Ratingvalue</th>\n",
       "      <th>RT_norm</th>\n",
       "      <th>RT_user_norm</th>\n",
       "      <th>...</th>\n",
       "      <th>IMDB_norm</th>\n",
       "      <th>RT_norm_round</th>\n",
       "      <th>RT_user_norm_round</th>\n",
       "      <th>Metacritic_norm_round</th>\n",
       "      <th>Metacritic_user_norm_round</th>\n",
       "      <th>IMDB_norm_round</th>\n",
       "      <th>Metacritic_user_vote_count</th>\n",
       "      <th>IMDB_user_vote_count</th>\n",
       "      <th>Fandango_votes</th>\n",
       "      <th>Fandango_Difference</th>\n",
       "    </tr>\n",
       "  </thead>\n",
       "  <tbody>\n",
       "    <tr>\n",
       "      <th>0</th>\n",
       "      <td>Avengers: Age of Ultron (2015)</td>\n",
       "      <td>74</td>\n",
       "      <td>86</td>\n",
       "      <td>66</td>\n",
       "      <td>7.1</td>\n",
       "      <td>7.8</td>\n",
       "      <td>5.0</td>\n",
       "      <td>4.5</td>\n",
       "      <td>3.70</td>\n",
       "      <td>4.3</td>\n",
       "      <td>...</td>\n",
       "      <td>3.90</td>\n",
       "      <td>3.5</td>\n",
       "      <td>4.5</td>\n",
       "      <td>3.5</td>\n",
       "      <td>3.5</td>\n",
       "      <td>4.0</td>\n",
       "      <td>1330</td>\n",
       "      <td>271107</td>\n",
       "      <td>14846</td>\n",
       "      <td>0.5</td>\n",
       "    </tr>\n",
       "    <tr>\n",
       "      <th>1</th>\n",
       "      <td>Cinderella (2015)</td>\n",
       "      <td>85</td>\n",
       "      <td>80</td>\n",
       "      <td>67</td>\n",
       "      <td>7.5</td>\n",
       "      <td>7.1</td>\n",
       "      <td>5.0</td>\n",
       "      <td>4.5</td>\n",
       "      <td>4.25</td>\n",
       "      <td>4.0</td>\n",
       "      <td>...</td>\n",
       "      <td>3.55</td>\n",
       "      <td>4.5</td>\n",
       "      <td>4.0</td>\n",
       "      <td>3.5</td>\n",
       "      <td>4.0</td>\n",
       "      <td>3.5</td>\n",
       "      <td>249</td>\n",
       "      <td>65709</td>\n",
       "      <td>12640</td>\n",
       "      <td>0.5</td>\n",
       "    </tr>\n",
       "    <tr>\n",
       "      <th>2</th>\n",
       "      <td>Ant-Man (2015)</td>\n",
       "      <td>80</td>\n",
       "      <td>90</td>\n",
       "      <td>64</td>\n",
       "      <td>8.1</td>\n",
       "      <td>7.8</td>\n",
       "      <td>5.0</td>\n",
       "      <td>4.5</td>\n",
       "      <td>4.00</td>\n",
       "      <td>4.5</td>\n",
       "      <td>...</td>\n",
       "      <td>3.90</td>\n",
       "      <td>4.0</td>\n",
       "      <td>4.5</td>\n",
       "      <td>3.0</td>\n",
       "      <td>4.0</td>\n",
       "      <td>4.0</td>\n",
       "      <td>627</td>\n",
       "      <td>103660</td>\n",
       "      <td>12055</td>\n",
       "      <td>0.5</td>\n",
       "    </tr>\n",
       "    <tr>\n",
       "      <th>3</th>\n",
       "      <td>Do You Believe? (2015)</td>\n",
       "      <td>18</td>\n",
       "      <td>84</td>\n",
       "      <td>22</td>\n",
       "      <td>4.7</td>\n",
       "      <td>5.4</td>\n",
       "      <td>5.0</td>\n",
       "      <td>4.5</td>\n",
       "      <td>0.90</td>\n",
       "      <td>4.2</td>\n",
       "      <td>...</td>\n",
       "      <td>2.70</td>\n",
       "      <td>1.0</td>\n",
       "      <td>4.0</td>\n",
       "      <td>1.0</td>\n",
       "      <td>2.5</td>\n",
       "      <td>2.5</td>\n",
       "      <td>31</td>\n",
       "      <td>3136</td>\n",
       "      <td>1793</td>\n",
       "      <td>0.5</td>\n",
       "    </tr>\n",
       "    <tr>\n",
       "      <th>4</th>\n",
       "      <td>Hot Tub Time Machine 2 (2015)</td>\n",
       "      <td>14</td>\n",
       "      <td>28</td>\n",
       "      <td>29</td>\n",
       "      <td>3.4</td>\n",
       "      <td>5.1</td>\n",
       "      <td>3.5</td>\n",
       "      <td>3.0</td>\n",
       "      <td>0.70</td>\n",
       "      <td>1.4</td>\n",
       "      <td>...</td>\n",
       "      <td>2.55</td>\n",
       "      <td>0.5</td>\n",
       "      <td>1.5</td>\n",
       "      <td>1.5</td>\n",
       "      <td>1.5</td>\n",
       "      <td>2.5</td>\n",
       "      <td>88</td>\n",
       "      <td>19560</td>\n",
       "      <td>1021</td>\n",
       "      <td>0.5</td>\n",
       "    </tr>\n",
       "  </tbody>\n",
       "</table>\n",
       "<p>5 rows × 22 columns</p>\n",
       "</div>"
      ],
      "text/plain": [
       "                             FILM  RottenTomatoes  RottenTomatoes_User  \\\n",
       "0  Avengers: Age of Ultron (2015)              74                   86   \n",
       "1               Cinderella (2015)              85                   80   \n",
       "2                  Ant-Man (2015)              80                   90   \n",
       "3          Do You Believe? (2015)              18                   84   \n",
       "4   Hot Tub Time Machine 2 (2015)              14                   28   \n",
       "\n",
       "   Metacritic  Metacritic_User  IMDB  Fandango_Stars  Fandango_Ratingvalue  \\\n",
       "0          66              7.1   7.8             5.0                   4.5   \n",
       "1          67              7.5   7.1             5.0                   4.5   \n",
       "2          64              8.1   7.8             5.0                   4.5   \n",
       "3          22              4.7   5.4             5.0                   4.5   \n",
       "4          29              3.4   5.1             3.5                   3.0   \n",
       "\n",
       "   RT_norm  RT_user_norm         ...           IMDB_norm  RT_norm_round  \\\n",
       "0     3.70           4.3         ...                3.90            3.5   \n",
       "1     4.25           4.0         ...                3.55            4.5   \n",
       "2     4.00           4.5         ...                3.90            4.0   \n",
       "3     0.90           4.2         ...                2.70            1.0   \n",
       "4     0.70           1.4         ...                2.55            0.5   \n",
       "\n",
       "   RT_user_norm_round  Metacritic_norm_round  Metacritic_user_norm_round  \\\n",
       "0                 4.5                    3.5                         3.5   \n",
       "1                 4.0                    3.5                         4.0   \n",
       "2                 4.5                    3.0                         4.0   \n",
       "3                 4.0                    1.0                         2.5   \n",
       "4                 1.5                    1.5                         1.5   \n",
       "\n",
       "   IMDB_norm_round  Metacritic_user_vote_count  IMDB_user_vote_count  \\\n",
       "0              4.0                        1330                271107   \n",
       "1              3.5                         249                 65709   \n",
       "2              4.0                         627                103660   \n",
       "3              2.5                          31                  3136   \n",
       "4              2.5                          88                 19560   \n",
       "\n",
       "   Fandango_votes  Fandango_Difference  \n",
       "0           14846                  0.5  \n",
       "1           12640                  0.5  \n",
       "2           12055                  0.5  \n",
       "3            1793                  0.5  \n",
       "4            1021                  0.5  \n",
       "\n",
       "[5 rows x 22 columns]"
      ]
     },
     "execution_count": 8,
     "metadata": {},
     "output_type": "execute_result"
    }
   ],
   "source": [
    "movies = pd.read_csv(\"https://raw.githubusercontent.com/33phoebe/datasets/master/fandango_score_comparison.csv\")\n",
    "movies.head()"
   ]
  },
  {
   "cell_type": "markdown",
   "metadata": {},
   "source": [
    "the dataset is cleaned by FiveThirtyEight and contains every film that has a Rotten Tomatoes rating, a RT User rating, a Metacritic score, a Metacritic User score, and IMDb score, and at least 30 fan reviews on Fandango. The data from Fandango was pulled on Aug. 24, 2015."
   ]
  },
  {
   "cell_type": "code",
   "execution_count": 8,
   "metadata": {},
   "outputs": [
    {
     "data": {
      "text/plain": [
       "<matplotlib.axes._subplots.AxesSubplot at 0x10e606128>"
      ]
     },
     "execution_count": 8,
     "metadata": {},
     "output_type": "execute_result"
    },
    {
     "data": {
      "image/png": "[encoded data removed]",
      "text/plain": [
       "<matplotlib.figure.Figure at 0x10e78c128>"
      ]
     },
     "metadata": {},
     "output_type": "display_data"
    }
   ],
   "source": [
    "movies[\"Metacritic_norm_round\"].hist()\n",
    "movies[\"Fandango_Stars\"].hist()"
   ]
  },
  {
   "cell_type": "markdown",
   "metadata": {},
   "source": [
    "- metacritic is more normally distributed, with the highest freq occurs in the middle, around 3 points. Also a fair amount of movies have lower values and some at higher\n",
    "- fandango's stars are skewed, with highest freq occurs around 4.5, which is significantly higher than the metacritic record. Also, there is no movie having a score lower than 3, and quite a few at 5."
   ]
  },
  {
   "cell_type": "code",
   "execution_count": 23,
   "metadata": {},
   "outputs": [
    {
     "name": "stdout",
     "output_type": "stream",
     "text": [
      "Fandango Mean: 4.089041095890411 \n",
      "Metacritic Mean: 2.9726027397260273\n",
      "Fandango Median: 4.0 \n",
      "Metacritic Median: 3.0\n",
      "Fandango Stdev: 0.5403859779787333 \n",
      "Metacritic Stdev: 0.9909605613743364\n"
     ]
    }
   ],
   "source": [
    "fan = movies[\"Fandango_Stars\"]\n",
    "meta = movies[\"Metacritic_norm_round\"]\n",
    "print(\"Fandango Mean:\",fan.mean(),\"\\nMetacritic Mean:\",meta.mean())\n",
    "print(\"Fandango Median:\", fan.median(), \"\\nMetacritic Median:\", meta.median())\n",
    "print(\"Fandango Stdev:\", fan.std(), \"\\nMetacritic Stdev:\", meta.std())"
   ]
  },
  {
   "cell_type": "markdown",
   "metadata": {},
   "source": [
    "Fandango doesn't explain in much details of their methodology, only vaguely mentions they incorporate a few sources; metacritics explains it uses a 100-point weighted average based on the critic's input and how their reviews are categorized into three groups representing their quality."
   ]
  },
  {
   "cell_type": "markdown",
   "metadata": {},
   "source": [
    "- Metacritic's mean is fairly close to median, slightly lower, as the graph above shows, metacritics have more higher rated movies than the ones that have really bad reviews, which make sense. And the fact that these two numbers are close represent the existence of outliers are moderate. On the other hand, the reviews of Fandango skews to the right, with the highest freq occurs at 4.5, which isn't normal given the perfect score is 5. \n",
    "- Fandango's star system is based on a 5 point discrete rating system, and the mininum value is around 3, made the range of variance very small; and metacritic scores, although of significant amount, are converted from a 100-point system and have more variety, also, even not in large amount, they have movies have extreme scores and make the variance much higher.\n",
    "- The mean of Fandango is much higher than Metacritic shows that its score is skewed."
   ]
  },
  {
   "cell_type": "code",
   "execution_count": 37,
   "metadata": {},
   "outputs": [
    {
     "data": {
      "text/plain": [
       "Text(0,0.5,'metacritic review')"
      ]
     },
     "execution_count": 37,
     "metadata": {},
     "output_type": "execute_result"
    },
    {
     "data": {
      "image/png": "[encoded data removed]",
      "text/plain": [
       "<matplotlib.figure.Figure at 0x117981f60>"
      ]
     },
     "metadata": {},
     "output_type": "display_data"
    }
   ],
   "source": [
    "fig, ax = plt.subplots()\n",
    "ax.scatter(fan, meta)\n",
    "ax.set_xlabel(\"fandango stars\")\n",
    "ax.set_ylabel(\"metacritic review\")"
   ]
  },
  {
   "cell_type": "code",
   "execution_count": 43,
   "metadata": {},
   "outputs": [
    {
     "data": {
      "text/html": [
       "<div>\n",
       "<style>\n",
       "    .dataframe thead tr:only-child th {\n",
       "        text-align: right;\n",
       "    }\n",
       "\n",
       "    .dataframe thead th {\n",
       "        text-align: left;\n",
       "    }\n",
       "\n",
       "    .dataframe tbody tr th {\n",
       "        vertical-align: top;\n",
       "    }\n",
       "</style>\n",
       "<table border=\"1\" class=\"dataframe\">\n",
       "  <thead>\n",
       "    <tr style=\"text-align: right;\">\n",
       "      <th></th>\n",
       "      <th>FILM</th>\n",
       "      <th>RottenTomatoes</th>\n",
       "      <th>RottenTomatoes_User</th>\n",
       "      <th>Metacritic</th>\n",
       "      <th>Metacritic_User</th>\n",
       "      <th>IMDB</th>\n",
       "      <th>Fandango_Stars</th>\n",
       "      <th>Fandango_Ratingvalue</th>\n",
       "      <th>RT_norm</th>\n",
       "      <th>RT_user_norm</th>\n",
       "      <th>...</th>\n",
       "      <th>RT_norm_round</th>\n",
       "      <th>RT_user_norm_round</th>\n",
       "      <th>Metacritic_norm_round</th>\n",
       "      <th>Metacritic_user_norm_round</th>\n",
       "      <th>IMDB_norm_round</th>\n",
       "      <th>Metacritic_user_vote_count</th>\n",
       "      <th>IMDB_user_vote_count</th>\n",
       "      <th>Fandango_votes</th>\n",
       "      <th>Fandango_Difference</th>\n",
       "      <th>fm_diff</th>\n",
       "    </tr>\n",
       "  </thead>\n",
       "  <tbody>\n",
       "    <tr>\n",
       "      <th>3</th>\n",
       "      <td>Do You Believe? (2015)</td>\n",
       "      <td>18</td>\n",
       "      <td>84</td>\n",
       "      <td>22</td>\n",
       "      <td>4.7</td>\n",
       "      <td>5.4</td>\n",
       "      <td>5.0</td>\n",
       "      <td>4.5</td>\n",
       "      <td>0.90</td>\n",
       "      <td>4.20</td>\n",
       "      <td>...</td>\n",
       "      <td>1.0</td>\n",
       "      <td>4.0</td>\n",
       "      <td>1.0</td>\n",
       "      <td>2.5</td>\n",
       "      <td>2.5</td>\n",
       "      <td>31</td>\n",
       "      <td>3136</td>\n",
       "      <td>1793</td>\n",
       "      <td>0.5</td>\n",
       "      <td>4.0</td>\n",
       "    </tr>\n",
       "    <tr>\n",
       "      <th>47</th>\n",
       "      <td>Annie (2014)</td>\n",
       "      <td>27</td>\n",
       "      <td>61</td>\n",
       "      <td>33</td>\n",
       "      <td>4.8</td>\n",
       "      <td>5.2</td>\n",
       "      <td>4.5</td>\n",
       "      <td>4.2</td>\n",
       "      <td>1.35</td>\n",
       "      <td>3.05</td>\n",
       "      <td>...</td>\n",
       "      <td>1.5</td>\n",
       "      <td>3.0</td>\n",
       "      <td>1.5</td>\n",
       "      <td>2.5</td>\n",
       "      <td>2.5</td>\n",
       "      <td>108</td>\n",
       "      <td>19222</td>\n",
       "      <td>6835</td>\n",
       "      <td>0.3</td>\n",
       "      <td>3.0</td>\n",
       "    </tr>\n",
       "    <tr>\n",
       "      <th>19</th>\n",
       "      <td>Pixels (2015)</td>\n",
       "      <td>17</td>\n",
       "      <td>54</td>\n",
       "      <td>27</td>\n",
       "      <td>5.3</td>\n",
       "      <td>5.6</td>\n",
       "      <td>4.5</td>\n",
       "      <td>4.1</td>\n",
       "      <td>0.85</td>\n",
       "      <td>2.70</td>\n",
       "      <td>...</td>\n",
       "      <td>1.0</td>\n",
       "      <td>2.5</td>\n",
       "      <td>1.5</td>\n",
       "      <td>2.5</td>\n",
       "      <td>3.0</td>\n",
       "      <td>246</td>\n",
       "      <td>19521</td>\n",
       "      <td>3886</td>\n",
       "      <td>0.4</td>\n",
       "      <td>3.0</td>\n",
       "    </tr>\n",
       "    <tr>\n",
       "      <th>134</th>\n",
       "      <td>The Longest Ride (2015)</td>\n",
       "      <td>31</td>\n",
       "      <td>73</td>\n",
       "      <td>33</td>\n",
       "      <td>4.8</td>\n",
       "      <td>7.2</td>\n",
       "      <td>4.5</td>\n",
       "      <td>4.5</td>\n",
       "      <td>1.55</td>\n",
       "      <td>3.65</td>\n",
       "      <td>...</td>\n",
       "      <td>1.5</td>\n",
       "      <td>3.5</td>\n",
       "      <td>1.5</td>\n",
       "      <td>2.5</td>\n",
       "      <td>3.5</td>\n",
       "      <td>49</td>\n",
       "      <td>25214</td>\n",
       "      <td>2603</td>\n",
       "      <td>0.0</td>\n",
       "      <td>3.0</td>\n",
       "    </tr>\n",
       "    <tr>\n",
       "      <th>133</th>\n",
       "      <td>Paul Blart: Mall Cop 2 (2015)</td>\n",
       "      <td>5</td>\n",
       "      <td>36</td>\n",
       "      <td>13</td>\n",
       "      <td>2.4</td>\n",
       "      <td>4.3</td>\n",
       "      <td>3.5</td>\n",
       "      <td>3.5</td>\n",
       "      <td>0.25</td>\n",
       "      <td>1.80</td>\n",
       "      <td>...</td>\n",
       "      <td>0.5</td>\n",
       "      <td>2.0</td>\n",
       "      <td>0.5</td>\n",
       "      <td>1.0</td>\n",
       "      <td>2.0</td>\n",
       "      <td>211</td>\n",
       "      <td>15004</td>\n",
       "      <td>3054</td>\n",
       "      <td>0.0</td>\n",
       "      <td>3.0</td>\n",
       "    </tr>\n",
       "  </tbody>\n",
       "</table>\n",
       "<p>5 rows × 23 columns</p>\n",
       "</div>"
      ],
      "text/plain": [
       "                              FILM  RottenTomatoes  RottenTomatoes_User  \\\n",
       "3           Do You Believe? (2015)              18                   84   \n",
       "47                    Annie (2014)              27                   61   \n",
       "19                   Pixels (2015)              17                   54   \n",
       "134        The Longest Ride (2015)              31                   73   \n",
       "133  Paul Blart: Mall Cop 2 (2015)               5                   36   \n",
       "\n",
       "     Metacritic  Metacritic_User  IMDB  Fandango_Stars  Fandango_Ratingvalue  \\\n",
       "3            22              4.7   5.4             5.0                   4.5   \n",
       "47           33              4.8   5.2             4.5                   4.2   \n",
       "19           27              5.3   5.6             4.5                   4.1   \n",
       "134          33              4.8   7.2             4.5                   4.5   \n",
       "133          13              2.4   4.3             3.5                   3.5   \n",
       "\n",
       "     RT_norm  RT_user_norm   ...     RT_norm_round  RT_user_norm_round  \\\n",
       "3       0.90          4.20   ...               1.0                 4.0   \n",
       "47      1.35          3.05   ...               1.5                 3.0   \n",
       "19      0.85          2.70   ...               1.0                 2.5   \n",
       "134     1.55          3.65   ...               1.5                 3.5   \n",
       "133     0.25          1.80   ...               0.5                 2.0   \n",
       "\n",
       "     Metacritic_norm_round  Metacritic_user_norm_round  IMDB_norm_round  \\\n",
       "3                      1.0                         2.5              2.5   \n",
       "47                     1.5                         2.5              2.5   \n",
       "19                     1.5                         2.5              3.0   \n",
       "134                    1.5                         2.5              3.5   \n",
       "133                    0.5                         1.0              2.0   \n",
       "\n",
       "     Metacritic_user_vote_count  IMDB_user_vote_count  Fandango_votes  \\\n",
       "3                            31                  3136            1793   \n",
       "47                          108                 19222            6835   \n",
       "19                          246                 19521            3886   \n",
       "134                          49                 25214            2603   \n",
       "133                         211                 15004            3054   \n",
       "\n",
       "     Fandango_Difference  fm_diff  \n",
       "3                    0.5      4.0  \n",
       "47                   0.3      3.0  \n",
       "19                   0.4      3.0  \n",
       "134                  0.0      3.0  \n",
       "133                  0.0      3.0  \n",
       "\n",
       "[5 rows x 23 columns]"
      ]
     },
     "execution_count": 43,
     "metadata": {},
     "output_type": "execute_result"
    }
   ],
   "source": [
    "movies[\"fm_diff\"] = abs(fan - meta)\n",
    "movies.sort_values(\"fm_diff\", inplace = True, ascending = False)\n",
    "movies.head()"
   ]
  },
  {
   "cell_type": "code",
   "execution_count": 46,
   "metadata": {},
   "outputs": [
    {
     "name": "stdout",
     "output_type": "stream",
     "text": [
      "0.178449190739 0.0311615162285\n"
     ]
    }
   ],
   "source": [
    "from scipy.stats import pearsonr\n",
    "r, p_value = pearsonr(fan, meta)\n",
    "print(r, p_value)"
   ]
  },
  {
   "cell_type": "markdown",
   "metadata": {},
   "source": [
    "The correlation is fairly low, while the significance is relatively high, it could mean either metacritic isn't a major source for fandango score, thus their scores are independent of each other; or fandango score has been altered from original scores severely based on metacritic score, thus the covariance compared to their individual variance is low."
   ]
  },
  {
   "cell_type": "code",
   "execution_count": 51,
   "metadata": {},
   "outputs": [
    {
     "name": "stdout",
     "output_type": "stream",
     "text": [
      "0.0973110779739 3.7997739189 0.178449190739 0.0311615162285\n",
      "4.09170715282 3.89708499687 4.28632930877\n"
     ]
    }
   ],
   "source": [
    "from scipy.stats import linregress\n",
    "slope, intercept, r, p_value, stderr_slope = linregress(meta, fan)\n",
    "print(slope, intercept, r, p_value)\n",
    "pred_3 = 3 * slope + intercept\n",
    "pred_1 = 1 * slope + intercept\n",
    "pred_5 = 5 * slope + intercept\n",
    "print(pred_3, pred_1, pred_5)"
   ]
  },
  {
   "cell_type": "markdown",
   "metadata": {},
   "source": [
    "- Based on the linear regression model, a movie with a 3.0 score would get it a 4.09 on Fandango, more than 1 whole point higher"
   ]
  },
  {
   "cell_type": "code",
   "execution_count": 58,
   "metadata": {},
   "outputs": [
    {
     "data": {
      "image/png": "[encoded data removed]",
      "text/plain": [
       "<matplotlib.figure.Figure at 0x10e904630>"
      ]
     },
     "metadata": {},
     "output_type": "display_data"
    }
   ],
   "source": [
    "x = [1, 5]\n",
    "y = [pred_1, pred_5]\n",
    "plt.scatter(meta, fan)\n",
    "plt.xlim(1, 5)\n",
    "plt.plot(x, y)\n",
    "plt.show()"
   ]
  },
  {
   "cell_type": "code",
   "execution_count": null,
   "metadata": {
    "collapsed": true
   },
   "outputs": [],
   "source": []
  }
 ],
 "metadata": {
  "kernelspec": {
   "display_name": "Python 3",
   "language": "python",
   "name": "python3"
  },
  "language_info": {
   "codemirror_mode": {
    "name": "ipython",
    "version": 3
   },
   "file_extension": ".py",
   "mimetype": "text/x-python",
   "name": "python",
   "nbconvert_exporter": "python",
   "pygments_lexer": "ipython3",
   "version": "3.6.3"
  }
 },
 "nbformat": 4,
 "nbformat_minor": 2
}
