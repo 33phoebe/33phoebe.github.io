{
 "cells": [
  {
   "cell_type": "code",
   "execution_count": 1,
   "metadata": {
    "collapsed": true
   },
   "outputs": [],
   "source": [
    "import pandas as pd"
   ]
  },
  {
   "cell_type": "code",
   "execution_count": 3,
   "metadata": {},
   "outputs": [
    {
     "name": "stdout",
     "output_type": "stream",
     "text": [
      "   Show Number    Air Date      Round                         Category  Value  \\\n",
      "0         4680  2004-12-31  Jeopardy!                          HISTORY   $200   \n",
      "1         4680  2004-12-31  Jeopardy!  ESPN's TOP 10 ALL-TIME ATHLETES   $200   \n",
      "2         4680  2004-12-31  Jeopardy!      EVERYBODY TALKS ABOUT IT...   $200   \n",
      "3         4680  2004-12-31  Jeopardy!                 THE COMPANY LINE   $200   \n",
      "4         4680  2004-12-31  Jeopardy!              EPITAPHS & TRIBUTES   $200   \n",
      "\n",
      "                                            Question      Answer  \n",
      "0  For the last 8 years of his life, Galileo was ...  Copernicus  \n",
      "1  No. 2: 1912 Olympian; football star at Carlisl...  Jim Thorpe  \n",
      "2  The city of Yuma in this state has a record av...     Arizona  \n",
      "3  In 1963, live on \"The Art Linkletter Show\", th...  McDonald's  \n",
      "4  Signer of the Dec. of Indep., framer of the Co...  John Adams  \n",
      "Index(['Show Number', ' Air Date', ' Round', ' Category', ' Value',\n",
      "       ' Question', ' Answer'],\n",
      "      dtype='object')\n"
     ]
    }
   ],
   "source": [
    "jeopardy = pd.read_csv(\"Data/JEOPARDY.csv\")\n",
    "print(jeopardy.head())\n",
    "print(jeopardy.columns)"
   ]
  },
  {
   "cell_type": "markdown",
   "metadata": {},
   "source": [
    "this dataset contains 216,930 Jeopardy questions, answers and other data across 22 years of air time. Questions were obtained by crawling www.j-archive.com done by redditor [trexmatt](https://www.reddit.com/r/datasets/comments/1uyd0t/200000_jeopardy_questions_in_a_json_file/)"
   ]
  },
  {
   "cell_type": "code",
   "execution_count": 5,
   "metadata": {},
   "outputs": [
    {
     "name": "stdout",
     "output_type": "stream",
     "text": [
      "Index(['Show Number', 'Air Date', 'Round', 'Category', 'Value', 'Question',\n",
      "       'Answer'],\n",
      "      dtype='object')\n"
     ]
    }
   ],
   "source": [
    "#remove the space in column names:\n",
    "jeopardy.columns = [\"Show Number\", \"Air Date\", \"Round\", \"Category\", \"Value\", \"Question\", \"Answer\"]\n",
    "print(jeopardy.columns)\n",
    "    "
   ]
  },
  {
   "cell_type": "code",
   "execution_count": 12,
   "metadata": {},
   "outputs": [
    {
     "name": "stdout",
     "output_type": "stream",
     "text": [
      "!\"#$%&'()*+,-./:;<=>?@[\\]^_`{|}~\n",
      "   Show Number    Air Date      Round                         Category Value  \\\n",
      "0         4680  2004-12-31  Jeopardy!                          HISTORY  $200   \n",
      "1         4680  2004-12-31  Jeopardy!  ESPN's TOP 10 ALL-TIME ATHLETES  $200   \n",
      "2         4680  2004-12-31  Jeopardy!      EVERYBODY TALKS ABOUT IT...  $200   \n",
      "3         4680  2004-12-31  Jeopardy!                 THE COMPANY LINE  $200   \n",
      "4         4680  2004-12-31  Jeopardy!              EPITAPHS & TRIBUTES  $200   \n",
      "\n",
      "                                            Question      Answer  \\\n",
      "0  For the last 8 years of his life, Galileo was ...  Copernicus   \n",
      "1  No. 2: 1912 Olympian; football star at Carlisl...  Jim Thorpe   \n",
      "2  The city of Yuma in this state has a record av...     Arizona   \n",
      "3  In 1963, live on \"The Art Linkletter Show\", th...  McDonald's   \n",
      "4  Signer of the Dec. of Indep., framer of the Co...  John Adams   \n",
      "\n",
      "                                      clean_question clean_answer  \n",
      "0  for the last 8 years of his life galileo was u...   copernicus  \n",
      "1  no 2 1912 olympian football star at carlisle i...   jim thorpe  \n",
      "2  the city of yuma in this state has a record av...      arizona  \n",
      "3  in 1963 live on the art linkletter show this c...    mcdonalds  \n",
      "4  signer of the dec of indep framer of the const...   john adams  \n"
     ]
    }
   ],
   "source": [
    "#function to remove punctuation, turn words into lowercase\n",
    "from string import punctuation\n",
    "print(punctuation)\n",
    "def cleanstr(string):\n",
    "    for p in punctuation:\n",
    "        string = string.replace(p, '')\n",
    "    return string.lower()\n",
    "#assign cleaned columns back to jeopardy\n",
    "jeopardy[\"clean_question\"] = jeopardy[\"Question\"].apply(cleanstr)\n",
    "jeopardy[\"clean_answer\"] = jeopardy[\"Answer\"].apply(cleanstr)\n",
    "print(jeopardy.head())"
   ]
  },
  {
   "cell_type": "code",
   "execution_count": 15,
   "metadata": {},
   "outputs": [
    {
     "name": "stdout",
     "output_type": "stream",
     "text": [
      "   Show Number   Air Date      Round                         Category Value  \\\n",
      "0         4680 2004-12-31  Jeopardy!                          HISTORY  $200   \n",
      "1         4680 2004-12-31  Jeopardy!  ESPN's TOP 10 ALL-TIME ATHLETES  $200   \n",
      "2         4680 2004-12-31  Jeopardy!      EVERYBODY TALKS ABOUT IT...  $200   \n",
      "3         4680 2004-12-31  Jeopardy!                 THE COMPANY LINE  $200   \n",
      "4         4680 2004-12-31  Jeopardy!              EPITAPHS & TRIBUTES  $200   \n",
      "\n",
      "                                            Question      Answer  \\\n",
      "0  For the last 8 years of his life, Galileo was ...  Copernicus   \n",
      "1  No. 2: 1912 Olympian; football star at Carlisl...  Jim Thorpe   \n",
      "2  The city of Yuma in this state has a record av...     Arizona   \n",
      "3  In 1963, live on \"The Art Linkletter Show\", th...  McDonald's   \n",
      "4  Signer of the Dec. of Indep., framer of the Co...  John Adams   \n",
      "\n",
      "                                      clean_question clean_answer  clean_value  \n",
      "0  for the last 8 years of his life galileo was u...   copernicus          200  \n",
      "1  no 2 1912 olympian football star at carlisle i...   jim thorpe          200  \n",
      "2  the city of yuma in this state has a record av...      arizona          200  \n",
      "3  in 1963 live on the art linkletter show this c...    mcdonalds          200  \n",
      "4  signer of the dec of indep framer of the const...   john adams          200  \n"
     ]
    }
   ],
   "source": [
    "#function to convert string to int for value\n",
    "def convert(string):\n",
    "    string = cleanstr(string)\n",
    "    try:\n",
    "        value = int(string)\n",
    "    except Exception:\n",
    "        value = 0\n",
    "    return value\n",
    "#assign back to the df\n",
    "jeopardy[\"clean_value\"] = jeopardy[\"Value\"].apply(convert)\n",
    "#convert air date to datetime format\n",
    "jeopardy[\"Air Date\"] = pd.to_datetime(jeopardy[\"Air Date\"])\n",
    "print(jeopardy.head())"
   ]
  },
  {
   "cell_type": "code",
   "execution_count": 19,
   "metadata": {},
   "outputs": [
    {
     "name": "stdout",
     "output_type": "stream",
     "text": [
      "datetime64[ns]\n"
     ]
    }
   ],
   "source": [
    "print(jeopardy[\"Air Date\"].dtype)"
   ]
  },
  {
   "cell_type": "code",
   "execution_count": 23,
   "metadata": {},
   "outputs": [
    {
     "name": "stdout",
     "output_type": "stream",
     "text": [
      "0.05932504431848426\n",
      "   Show Number   Air Date      Round                         Category Value  \\\n",
      "0         4680 2004-12-31  Jeopardy!                          HISTORY  $200   \n",
      "1         4680 2004-12-31  Jeopardy!  ESPN's TOP 10 ALL-TIME ATHLETES  $200   \n",
      "2         4680 2004-12-31  Jeopardy!      EVERYBODY TALKS ABOUT IT...  $200   \n",
      "3         4680 2004-12-31  Jeopardy!                 THE COMPANY LINE  $200   \n",
      "4         4680 2004-12-31  Jeopardy!              EPITAPHS & TRIBUTES  $200   \n",
      "\n",
      "                                            Question      Answer  \\\n",
      "0  For the last 8 years of his life, Galileo was ...  Copernicus   \n",
      "1  No. 2: 1912 Olympian; football star at Carlisl...  Jim Thorpe   \n",
      "2  The city of Yuma in this state has a record av...     Arizona   \n",
      "3  In 1963, live on \"The Art Linkletter Show\", th...  McDonald's   \n",
      "4  Signer of the Dec. of Indep., framer of the Co...  John Adams   \n",
      "\n",
      "                                      clean_question clean_answer  \\\n",
      "0  for the last 8 years of his life galileo was u...   copernicus   \n",
      "1  no 2 1912 olympian football star at carlisle i...   jim thorpe   \n",
      "2  the city of yuma in this state has a record av...      arizona   \n",
      "3  in 1963 live on the art linkletter show this c...    mcdonalds   \n",
      "4  signer of the dec of indep framer of the const...   john adams   \n",
      "\n",
      "   clean_value  answer_in_question  \n",
      "0          200                 0.0  \n",
      "1          200                 0.0  \n",
      "2          200                 0.0  \n",
      "3          200                 0.0  \n",
      "4          200                 0.0  \n"
     ]
    }
   ],
   "source": [
    "#function to find match between answers and question\n",
    "def match(row):\n",
    "    split_answer = row[\"clean_answer\"].split(\" \")\n",
    "    split_question = row[\"clean_question\"].split(\" \")\n",
    "    match_count = 0\n",
    "    if \"the\" in split_answer:\n",
    "        split_answer.remove(\"the\")\n",
    "    if len(split_answer) == 0:\n",
    "        return 0\n",
    "    else:\n",
    "        for i in split_answer:\n",
    "            if i in split_question:\n",
    "                match_count += 1\n",
    "        return match_count/len(split_answer)\n",
    "#apply function and assign result to answer_in_question column:\n",
    "jeopardy[\"answer_in_question\"] = jeopardy.apply(match, axis = 1)\n",
    "print(jeopardy[\"answer_in_question\"].mean())\n",
    "print(jeopardy.head())"
   ]
  },
  {
   "cell_type": "markdown",
   "metadata": {},
   "source": [
    "There is a little less than 6% of the chance we can hear the answer in the question, implying that study would be necessary to score high in jeopardy"
   ]
  },
  {
   "cell_type": "code",
   "execution_count": 45,
   "metadata": {},
   "outputs": [
    {
     "name": "stdout",
     "output_type": "stream",
     "text": [
      "       Show Number   Air Date             Round            Category   Value  \\\n",
      "84523            1 1984-09-10         Jeopardy!      LAKES & RIVERS    $100   \n",
      "84565            1 1984-09-10  Double Jeopardy!           THE BIBLE   $1000   \n",
      "84566            1 1984-09-10  Double Jeopardy!            '50'S TV   $1000   \n",
      "84567            1 1984-09-10  Double Jeopardy!  NATIONAL LANDMARKS   $1000   \n",
      "84568            1 1984-09-10  Double Jeopardy!           NOTORIOUS   $1000   \n",
      "84569            1 1984-09-10  Double Jeopardy!      4-LETTER WORDS   $1000   \n",
      "84570            1 1984-09-10   Final Jeopardy!            HOLIDAYS    None   \n",
      "84538            1 1984-09-10         Jeopardy!      LAKES & RIVERS    $400   \n",
      "84537            1 1984-09-10         Jeopardy!      ACTORS & ROLES    $300   \n",
      "84536            1 1984-09-10         Jeopardy!     FOREIGN CUISINE    $300   \n",
      "84564            1 1984-09-10  Double Jeopardy!      4-LETTER WORDS  $1,000   \n",
      "84535            1 1984-09-10         Jeopardy!             ANIMALS    $300   \n",
      "84533            1 1984-09-10         Jeopardy!      LAKES & RIVERS    $800   \n",
      "84532            1 1984-09-10         Jeopardy!      ACTORS & ROLES    $200   \n",
      "84531            1 1984-09-10         Jeopardy!     FOREIGN CUISINE    $200   \n",
      "84530            1 1984-09-10         Jeopardy!             ANIMALS    $200   \n",
      "84529            1 1984-09-10         Jeopardy!          INVENTIONS    $200   \n",
      "84528            1 1984-09-10         Jeopardy!      LAKES & RIVERS    $200   \n",
      "84527            1 1984-09-10         Jeopardy!      ACTORS & ROLES    $100   \n",
      "84526            1 1984-09-10         Jeopardy!     FOREIGN CUISINE    $100   \n",
      "\n",
      "                                                Question  \\\n",
      "84523            River mentioned most often in the Bible   \n",
      "84565  According to 1st Timothy, it is the \"root of a...   \n",
      "84566  Name under which experimenter Don Herbert taug...   \n",
      "84567    D.C. building shaken by November '83 bomb blast   \n",
      "84568  After the deed, he leaped to the stage shoutin...   \n",
      "84569  The president takes one before stepping into o...   \n",
      "84570       The third Monday of January starting in 1986   \n",
      "84538  American river only 33 miles shorter than the ...   \n",
      "84537  He may \"Never Say Never Again\" when asked to b...   \n",
      "84536                    Jewish crepe filled with cheese   \n",
      "84564  It's the first 4-letter word in \"The Star Span...   \n",
      "84535  When husbands \"pop\" for an ermine coat, they'r...   \n",
      "84533  River in <a href=\"http://www.j-archive.com/med...   \n",
      "84532  2 \"Saturday Night\" alumni who tried \"Trading P...   \n",
      "84531  A British variety is called \"bangers\", a Mexic...   \n",
      "84530  There are about 40,000 muscles & tendons in th...   \n",
      "84529  In 1869 an American minister created this \"ori...   \n",
      "84528                             Scottish word for lake   \n",
      "84527  Video in which Michael Jackson plays a werewol...   \n",
      "84526                            The \"coq\" in coq au vin   \n",
      "\n",
      "                           Answer  \\\n",
      "84523                  the Jordan   \n",
      "84565           the love of money   \n",
      "84566                  Mr. Wizard   \n",
      "84567                 the Capitol   \n",
      "84568           John Wilkes Booth   \n",
      "84569                        oath   \n",
      "84570      Martin Luther King Day   \n",
      "84538                the Missouri   \n",
      "84537                Sean Connery   \n",
      "84536                    a blintz   \n",
      "84564                        what   \n",
      "84535                      weasel   \n",
      "84533             the Volga River   \n",
      "84532  Dan Aykroyd & Eddie Murphy   \n",
      "84531                     sausage   \n",
      "84530                   the trunk   \n",
      "84529                the rickshaw   \n",
      "84528                        loch   \n",
      "84527                  \"Thriller\"   \n",
      "84526                     chicken   \n",
      "\n",
      "                                          clean_question  \\\n",
      "84523            river mentioned most often in the bible   \n",
      "84565  according to 1st timothy it is the root of all...   \n",
      "84566  name under which experimenter don herbert taug...   \n",
      "84567       dc building shaken by november 83 bomb blast   \n",
      "84568  after the deed he leaped to the stage shouting...   \n",
      "84569  the president takes one before stepping into o...   \n",
      "84570       the third monday of january starting in 1986   \n",
      "84538  american river only 33 miles shorter than the ...   \n",
      "84537  he may never say never again when asked to be ...   \n",
      "84536                    jewish crepe filled with cheese   \n",
      "84564  its the first 4letter word in the star spangle...   \n",
      "84535  when husbands pop for an ermine coat theyre ac...   \n",
      "84533  river in a hrefhttpwwwjarchivecommedia19840910...   \n",
      "84532   2 saturday night alumni who tried trading places   \n",
      "84531  a british variety is called bangers a mexican ...   \n",
      "84530  there are about 40000 muscles  tendons in this...   \n",
      "84529  in 1869 an american minister created this orie...   \n",
      "84528                             scottish word for lake   \n",
      "84527  video in which michael jackson plays a werewol...   \n",
      "84526                              the coq in coq au vin   \n",
      "\n",
      "                    clean_answer  clean_value  answer_in_question  \n",
      "84523                 the jordan          100            0.000000  \n",
      "84565          the love of money         1000            0.333333  \n",
      "84566                  mr wizard         1000            0.000000  \n",
      "84567                the capitol         1000            0.000000  \n",
      "84568          john wilkes booth         1000            0.000000  \n",
      "84569                       oath         1000            0.000000  \n",
      "84570     martin luther king day            0            0.000000  \n",
      "84538               the missouri          400            0.000000  \n",
      "84537               sean connery          300            0.000000  \n",
      "84536                   a blintz          300            0.000000  \n",
      "84564                       what         1000            0.000000  \n",
      "84535                     weasel          300            0.000000  \n",
      "84533            the volga river          800            0.500000  \n",
      "84532  dan aykroyd  eddie murphy          200            0.000000  \n",
      "84531                    sausage          200            0.000000  \n",
      "84530                  the trunk          200            0.000000  \n",
      "84529               the rickshaw          200            0.000000  \n",
      "84528                       loch          200            0.000000  \n",
      "84527                   thriller          100            0.000000  \n",
      "84526                    chicken          100            0.000000  \n",
      "(216930, 11)\n"
     ]
    }
   ],
   "source": [
    "jeo = jeopardy.sort_values(\"Air Date\")\n",
    "print(jeo.head(20))\n",
    "print(jeo.shape)"
   ]
  },
  {
   "cell_type": "code",
   "execution_count": 61,
   "metadata": {},
   "outputs": [
    {
     "name": "stdout",
     "output_type": "stream",
     "text": [
      "0.8814681418912709\n"
     ]
    }
   ],
   "source": [
    "terms_used = set()\n",
    "question_overlap = []\n",
    "for i, row in jeo.iterrows():\n",
    "    split_question = row[\"clean_question\"].split(\" \")\n",
    "    split_question = [word for word in split_question if len(word) > 5 and len(word) < 15]\n",
    "    match_count = 0\n",
    "    for word in split_question:\n",
    "        if word in terms_used:\n",
    "            match_count += 1  \n",
    "        terms_used.add(word)        \n",
    "    if len(split_question) > 0:\n",
    "        match_count /= len(split_question)\n",
    "    question_overlap.append(match_count)    \n",
    "jeo[\"question_overlap\"] = question_overlap\n",
    "print(jeo[\"question_overlap\"].mean())"
   ]
  },
  {
   "cell_type": "markdown",
   "metadata": {},
   "source": [
    "The rate appears to be very high, honestly it's only normal with 200000 rows of data, when it towards the later, many words are bound to be repeated many times since we do not pay attention to the order of the words and how they connect with each other."
   ]
  },
  {
   "cell_type": "code",
   "execution_count": 53,
   "metadata": {},
   "outputs": [
    {
     "name": "stdout",
     "output_type": "stream",
     "text": [
      "       Show Number   Air Date             Round            Category  Value  \\\n",
      "84523            1 1984-09-10         Jeopardy!      LAKES & RIVERS   $100   \n",
      "84565            1 1984-09-10  Double Jeopardy!           THE BIBLE  $1000   \n",
      "84566            1 1984-09-10  Double Jeopardy!            '50'S TV  $1000   \n",
      "84567            1 1984-09-10  Double Jeopardy!  NATIONAL LANDMARKS  $1000   \n",
      "84568            1 1984-09-10  Double Jeopardy!           NOTORIOUS  $1000   \n",
      "\n",
      "                                                Question             Answer  \\\n",
      "84523            River mentioned most often in the Bible         the Jordan   \n",
      "84565  According to 1st Timothy, it is the \"root of a...  the love of money   \n",
      "84566  Name under which experimenter Don Herbert taug...         Mr. Wizard   \n",
      "84567    D.C. building shaken by November '83 bomb blast        the Capitol   \n",
      "84568  After the deed, he leaped to the stage shoutin...  John Wilkes Booth   \n",
      "\n",
      "                                          clean_question       clean_answer  \\\n",
      "84523            river mentioned most often in the bible         the jordan   \n",
      "84565  according to 1st timothy it is the root of all...  the love of money   \n",
      "84566  name under which experimenter don herbert taug...          mr wizard   \n",
      "84567       dc building shaken by november 83 bomb blast        the capitol   \n",
      "84568  after the deed he leaped to the stage shouting...  john wilkes booth   \n",
      "\n",
      "       clean_value  answer_in_question  high_value  \n",
      "84523          100            0.000000           0  \n",
      "84565         1000            0.333333           1  \n",
      "84566         1000            0.000000           1  \n",
      "84567         1000            0.000000           1  \n",
      "84568         1000            0.000000           1  \n"
     ]
    }
   ],
   "source": [
    "def value(row):\n",
    "    if row[\"clean_value\"] > 800:\n",
    "        value = 1\n",
    "    else:\n",
    "        value = 0\n",
    "    return value\n",
    "jeo[\"high_value\"] = jeo.apply(value, axis = 1)\n",
    "print(jeo.head())"
   ]
  },
  {
   "cell_type": "code",
   "execution_count": 56,
   "metadata": {
    "collapsed": true
   },
   "outputs": [],
   "source": [
    "jeo.drop([\"Question\", \"Answer\", \"Value\"], axis = 1, inplace = True)"
   ]
  },
  {
   "cell_type": "code",
   "execution_count": 57,
   "metadata": {},
   "outputs": [
    {
     "name": "stdout",
     "output_type": "stream",
     "text": [
      "       Show Number   Air Date             Round            Category  \\\n",
      "84523            1 1984-09-10         Jeopardy!      LAKES & RIVERS   \n",
      "84565            1 1984-09-10  Double Jeopardy!           THE BIBLE   \n",
      "84566            1 1984-09-10  Double Jeopardy!            '50'S TV   \n",
      "84567            1 1984-09-10  Double Jeopardy!  NATIONAL LANDMARKS   \n",
      "84568            1 1984-09-10  Double Jeopardy!           NOTORIOUS   \n",
      "\n",
      "                                          clean_question       clean_answer  \\\n",
      "84523            river mentioned most often in the bible         the jordan   \n",
      "84565  according to 1st timothy it is the root of all...  the love of money   \n",
      "84566  name under which experimenter don herbert taug...          mr wizard   \n",
      "84567       dc building shaken by november 83 bomb blast        the capitol   \n",
      "84568  after the deed he leaped to the stage shouting...  john wilkes booth   \n",
      "\n",
      "       clean_value  answer_in_question  high_value  \n",
      "84523          100            0.000000           0  \n",
      "84565         1000            0.333333           1  \n",
      "84566         1000            0.000000           1  \n",
      "84567         1000            0.000000           1  \n",
      "84568         1000            0.000000           1  \n"
     ]
    }
   ],
   "source": [
    "print(jeo.head())"
   ]
  },
  {
   "cell_type": "code",
   "execution_count": 59,
   "metadata": {},
   "outputs": [
    {
     "name": "stdout",
     "output_type": "stream",
     "text": [
      "[(2, 3), (0, 1), (27, 92), (0, 1), (1, 0)]\n",
      "a\n"
     ]
    }
   ],
   "source": [
    "def valuecount(word):\n",
    "    low_count = 0\n",
    "    high_count = 0\n",
    "    for i, row in jeo.iterrows():\n",
    "        if word in row[\"clean_question\"].split(\" \"):\n",
    "            if row[\"high_value\"] == 1:\n",
    "                high_count += 1\n",
    "            else:\n",
    "                low_count += 1\n",
    "    return high_count, low_count\n",
    "\n",
    "obs_exp = []\n",
    "terms_used = list(terms_used)\n",
    "comparison_terms = terms_used[:5]\n",
    "for term in comparison_terms:\n",
    "    obs_exp.append(valuecount(term))\n",
    "print(obs_exp)\n",
    "print('a')"
   ]
  },
  {
   "cell_type": "code",
   "execution_count": 60,
   "metadata": {},
   "outputs": [
    {
     "name": "stdout",
     "output_type": "stream",
     "text": [
      "['unattractive', 'frozenfood', 'guitar', 'plumpynut', 'hrefhttpwwwjarchivecommedia20081006dj29wmvdemonstrateda']\n"
     ]
    }
   ],
   "source": [
    "print(comparison_terms)"
   ]
  },
  {
   "cell_type": "code",
   "execution_count": 70,
   "metadata": {},
   "outputs": [
    {
     "name": "stdout",
     "output_type": "stream",
     "text": [
      "61422 155508\n",
      "5 2.3048909786567094e-05\n",
      "1.415710136910524 3.5842898630894755\n",
      "1 4.609781957313419e-06\n",
      "0.2831420273821048 0.7168579726178952\n",
      "119 0.0005485640529202969\n",
      "33.693901258470476 85.30609874152954\n",
      "1 4.609781957313419e-06\n",
      "0.2831420273821048 0.7168579726178952\n",
      "1 4.609781957313419e-06\n",
      "0.2831420273821048 0.7168579726178952\n"
     ]
    },
    {
     "data": {
      "text/plain": [
       "[Power_divergenceResult(statistic=0.3363947754070794, pvalue=0.56191765510245351),\n",
       " Power_divergenceResult(statistic=0.39497646423335131, pvalue=0.52969509124866954),\n",
       " Power_divergenceResult(statistic=1.8551293016977488, pvalue=0.1731880028017444),\n",
       " Power_divergenceResult(statistic=0.39497646423335131, pvalue=0.52969509124866954),\n",
       " Power_divergenceResult(statistic=2.5317964247338085, pvalue=0.11157312838169751)]"
      ]
     },
     "execution_count": 70,
     "metadata": {},
     "output_type": "execute_result"
    }
   ],
   "source": [
    "import numpy as np\n",
    "from scipy.stats import chisquare\n",
    "high_value_count = jeo[jeo[\"high_value\"] == 1].shape[0]\n",
    "low_value_count = jeo[jeo[\"high_value\"] == 0].shape[0]\n",
    "print(high_value_count, low_value_count)\n",
    "chi_squared = []\n",
    "for item in obs_exp:\n",
    "    total = item[0] + item[1]\n",
    "    total_prop = total/jeo.shape[0]\n",
    "    print(total, total_prop)\n",
    "    exp_high_value = total_prop * high_value_count\n",
    "    exp_low_value = total_prop * low_value_count\n",
    "    print(exp_high_value, exp_low_value)\n",
    "    obs = np.array([item[0],item[1]])\n",
    "    exp = np.array([exp_high_value, exp_low_value])\n",
    "    chi_squared.append(chisquare(obs, exp))\n",
    "chi_squared\n",
    "    "
   ]
  },
  {
   "cell_type": "markdown",
   "metadata": {},
   "source": [
    "None of the pvalue < 0.05, so all the results are statistically insignifant. From the five words we tested, there are no clear sign that the word occurence differ much in high and low value questions."
   ]
  },
  {
   "cell_type": "code",
   "execution_count": null,
   "metadata": {
    "collapsed": true
   },
   "outputs": [],
   "source": []
  }
 ],
 "metadata": {
  "kernelspec": {
   "display_name": "Python 3",
   "language": "python",
   "name": "python3"
  },
  "language_info": {
   "codemirror_mode": {
    "name": "ipython",
    "version": 3
   },
   "file_extension": ".py",
   "mimetype": "text/x-python",
   "name": "python",
   "nbconvert_exporter": "python",
   "pygments_lexer": "ipython3",
   "version": "3.6.3"
  }
 },
 "nbformat": 4,
 "nbformat_minor": 2
}
